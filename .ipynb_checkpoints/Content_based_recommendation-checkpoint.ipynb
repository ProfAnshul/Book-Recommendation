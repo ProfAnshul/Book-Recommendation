{
 "cells": [
  {
   "cell_type": "markdown",
   "metadata": {},
   "source": [
    "Now, after getting the final cleaned datasets, we can perform recommendation strategies. As per the available data, I have decided to perform two different methods to generate recommendation for a user.\n",
    "\n",
    "Methods are as follows:\n",
    "\n",
    "1) Top-N recommendations\n",
    "\n",
    "2) Content based recommendations"
   ]
  },
  {
   "cell_type": "markdown",
   "metadata": {},
   "source": [
    "For Top-N recommendation, I would simply find out the top 10 books on the basis of user's rating. Obviously it wouldnt be that efficient because this type recommendation system will return the same list of books to all users irrespective of their interest and previous reading.\n",
    "\n",
    "As we have seen, there are many users who have rated many books. I am making a thrushhold of 100. That means I am going to consider only those users who have rated 100 or more than 100 books. It makes more sense if we consider those users who have rated many books. User with more readings can rate a book book more appropriately."
   ]
  },
  {
   "cell_type": "markdown",
   "metadata": {},
   "source": [
    "### 1) Top-N Recommendation "
   ]
  },
  {
   "cell_type": "code",
   "execution_count": 2,
   "metadata": {},
   "outputs": [],
   "source": [
    "import pandas as pd\n",
    "import matplotlib.pyplot as plt\n",
    "import numpy as np\n",
    "import seaborn as sns\n",
    "\n",
    "from sklearn.feature_extraction.text import TfidfVectorizer, CountVectorizer\n",
    "from sklearn.metrics.pairwise import linear_kernel, cosine_similarity"
   ]
  },
  {
   "cell_type": "code",
   "execution_count": 3,
   "metadata": {},
   "outputs": [],
   "source": [
    "df_tags = pd.read_csv('Data/tags.csv')"
   ]
  },
  {
   "cell_type": "code",
   "execution_count": 4,
   "metadata": {},
   "outputs": [],
   "source": [
    "df_book_tags = pd.read_csv('Data/book_tags.csv')"
   ]
  },
  {
   "cell_type": "code",
   "execution_count": 5,
   "metadata": {},
   "outputs": [],
   "source": [
    "df_book = pd.read_csv('Data/books.csv')"
   ]
  },
  {
   "cell_type": "code",
   "execution_count": 6,
   "metadata": {},
   "outputs": [],
   "source": [
    "df_ratings = pd.read_csv('Data/ratings.csv')"
   ]
  },
  {
   "cell_type": "code",
   "execution_count": 7,
   "metadata": {},
   "outputs": [],
   "source": [
    "df_genres = pd.read_csv('Data/genres.csv')"
   ]
  },
  {
   "cell_type": "code",
   "execution_count": 8,
   "metadata": {},
   "outputs": [
    {
     "data": {
      "text/html": [
       "<div>\n",
       "<style scoped>\n",
       "    .dataframe tbody tr th:only-of-type {\n",
       "        vertical-align: middle;\n",
       "    }\n",
       "\n",
       "    .dataframe tbody tr th {\n",
       "        vertical-align: top;\n",
       "    }\n",
       "\n",
       "    .dataframe thead th {\n",
       "        text-align: right;\n",
       "    }\n",
       "</style>\n",
       "<table border=\"1\" class=\"dataframe\">\n",
       "  <thead>\n",
       "    <tr style=\"text-align: right;\">\n",
       "      <th></th>\n",
       "      <th>book_id</th>\n",
       "      <th>rating</th>\n",
       "    </tr>\n",
       "  </thead>\n",
       "  <tbody>\n",
       "    <tr>\n",
       "      <td>3627</td>\n",
       "      <td>3628</td>\n",
       "      <td>4.829876</td>\n",
       "    </tr>\n",
       "    <tr>\n",
       "      <td>7946</td>\n",
       "      <td>7947</td>\n",
       "      <td>4.818182</td>\n",
       "    </tr>\n",
       "    <tr>\n",
       "      <td>9565</td>\n",
       "      <td>9566</td>\n",
       "      <td>4.768707</td>\n",
       "    </tr>\n",
       "    <tr>\n",
       "      <td>6919</td>\n",
       "      <td>6920</td>\n",
       "      <td>4.766355</td>\n",
       "    </tr>\n",
       "    <tr>\n",
       "      <td>8977</td>\n",
       "      <td>8978</td>\n",
       "      <td>4.761364</td>\n",
       "    </tr>\n",
       "    <tr>\n",
       "      <td>...</td>\n",
       "      <td>...</td>\n",
       "      <td>...</td>\n",
       "    </tr>\n",
       "    <tr>\n",
       "      <td>1821</td>\n",
       "      <td>1822</td>\n",
       "      <td>2.492537</td>\n",
       "    </tr>\n",
       "    <tr>\n",
       "      <td>4990</td>\n",
       "      <td>4991</td>\n",
       "      <td>2.462687</td>\n",
       "    </tr>\n",
       "    <tr>\n",
       "      <td>7635</td>\n",
       "      <td>7636</td>\n",
       "      <td>2.283333</td>\n",
       "    </tr>\n",
       "    <tr>\n",
       "      <td>4044</td>\n",
       "      <td>4045</td>\n",
       "      <td>2.254717</td>\n",
       "    </tr>\n",
       "    <tr>\n",
       "      <td>1792</td>\n",
       "      <td>1793</td>\n",
       "      <td>2.077966</td>\n",
       "    </tr>\n",
       "  </tbody>\n",
       "</table>\n",
       "<p>10000 rows × 2 columns</p>\n",
       "</div>"
      ],
      "text/plain": [
       "      book_id    rating\n",
       "3627     3628  4.829876\n",
       "7946     7947  4.818182\n",
       "9565     9566  4.768707\n",
       "6919     6920  4.766355\n",
       "8977     8978  4.761364\n",
       "...       ...       ...\n",
       "1821     1822  2.492537\n",
       "4990     4991  2.462687\n",
       "7635     7636  2.283333\n",
       "4044     4045  2.254717\n",
       "1792     1793  2.077966\n",
       "\n",
       "[10000 rows x 2 columns]"
      ]
     },
     "execution_count": 8,
     "metadata": {},
     "output_type": "execute_result"
    }
   ],
   "source": [
    "top = df_ratings.groupby(['book_id'],as_index = False).agg({'rating':'mean'})\n",
    "top.sort_values('rating',ascending = False)"
   ]
  },
  {
   "cell_type": "code",
   "execution_count": 9,
   "metadata": {},
   "outputs": [],
   "source": [
    "# We need to merge \"top\" dataframe with \"df_books\" dataframe so that we can get complete list of books with\n",
    "# titles and respective authors."
   ]
  },
  {
   "cell_type": "code",
   "execution_count": 10,
   "metadata": {},
   "outputs": [
    {
     "data": {
      "text/plain": [
       "(10000, 2)"
      ]
     },
     "execution_count": 10,
     "metadata": {},
     "output_type": "execute_result"
    }
   ],
   "source": [
    "top.shape"
   ]
  },
  {
   "cell_type": "code",
   "execution_count": 12,
   "metadata": {},
   "outputs": [],
   "source": [
    "top_list = pd.merge(df_book,top,on = 'book_id')"
   ]
  },
  {
   "cell_type": "code",
   "execution_count": 13,
   "metadata": {},
   "outputs": [
    {
     "data": {
      "text/plain": [
       "(10000, 24)"
      ]
     },
     "execution_count": 13,
     "metadata": {},
     "output_type": "execute_result"
    }
   ],
   "source": [
    "top_list.shape"
   ]
  },
  {
   "cell_type": "code",
   "execution_count": 14,
   "metadata": {},
   "outputs": [
    {
     "data": {
      "text/html": [
       "<div>\n",
       "<style scoped>\n",
       "    .dataframe tbody tr th:only-of-type {\n",
       "        vertical-align: middle;\n",
       "    }\n",
       "\n",
       "    .dataframe tbody tr th {\n",
       "        vertical-align: top;\n",
       "    }\n",
       "\n",
       "    .dataframe thead th {\n",
       "        text-align: right;\n",
       "    }\n",
       "</style>\n",
       "<table border=\"1\" class=\"dataframe\">\n",
       "  <thead>\n",
       "    <tr style=\"text-align: right;\">\n",
       "      <th></th>\n",
       "      <th>book_id</th>\n",
       "      <th>authors</th>\n",
       "      <th>title</th>\n",
       "      <th>rating</th>\n",
       "    </tr>\n",
       "  </thead>\n",
       "  <tbody>\n",
       "    <tr>\n",
       "      <td>0</td>\n",
       "      <td>1</td>\n",
       "      <td>Suzanne Collins</td>\n",
       "      <td>The Hunger Games (The Hunger Games, #1)</td>\n",
       "      <td>4.279707</td>\n",
       "    </tr>\n",
       "    <tr>\n",
       "      <td>1</td>\n",
       "      <td>2</td>\n",
       "      <td>J.K. Rowling, Mary GrandPré</td>\n",
       "      <td>Harry Potter and the Sorcerer's Stone (Harry P...</td>\n",
       "      <td>4.351350</td>\n",
       "    </tr>\n",
       "    <tr>\n",
       "      <td>2</td>\n",
       "      <td>3</td>\n",
       "      <td>Stephenie Meyer</td>\n",
       "      <td>Twilight (Twilight, #1)</td>\n",
       "      <td>3.214341</td>\n",
       "    </tr>\n",
       "    <tr>\n",
       "      <td>3</td>\n",
       "      <td>4</td>\n",
       "      <td>Harper Lee</td>\n",
       "      <td>To Kill a Mockingbird</td>\n",
       "      <td>4.329369</td>\n",
       "    </tr>\n",
       "    <tr>\n",
       "      <td>4</td>\n",
       "      <td>5</td>\n",
       "      <td>F. Scott Fitzgerald</td>\n",
       "      <td>The Great Gatsby</td>\n",
       "      <td>3.772224</td>\n",
       "    </tr>\n",
       "  </tbody>\n",
       "</table>\n",
       "</div>"
      ],
      "text/plain": [
       "   book_id                      authors  \\\n",
       "0        1              Suzanne Collins   \n",
       "1        2  J.K. Rowling, Mary GrandPré   \n",
       "2        3              Stephenie Meyer   \n",
       "3        4                   Harper Lee   \n",
       "4        5          F. Scott Fitzgerald   \n",
       "\n",
       "                                               title    rating  \n",
       "0            The Hunger Games (The Hunger Games, #1)  4.279707  \n",
       "1  Harry Potter and the Sorcerer's Stone (Harry P...  4.351350  \n",
       "2                            Twilight (Twilight, #1)  3.214341  \n",
       "3                              To Kill a Mockingbird  4.329369  \n",
       "4                                   The Great Gatsby  3.772224  "
      ]
     },
     "execution_count": 14,
     "metadata": {},
     "output_type": "execute_result"
    }
   ],
   "source": [
    "top_list = top_list[['book_id','authors','title','rating']]\n",
    "top_list.head()"
   ]
  },
  {
   "cell_type": "code",
   "execution_count": 15,
   "metadata": {
    "scrolled": true
   },
   "outputs": [
    {
     "data": {
      "text/html": [
       "<div>\n",
       "<style scoped>\n",
       "    .dataframe tbody tr th:only-of-type {\n",
       "        vertical-align: middle;\n",
       "    }\n",
       "\n",
       "    .dataframe tbody tr th {\n",
       "        vertical-align: top;\n",
       "    }\n",
       "\n",
       "    .dataframe thead th {\n",
       "        text-align: right;\n",
       "    }\n",
       "</style>\n",
       "<table border=\"1\" class=\"dataframe\">\n",
       "  <thead>\n",
       "    <tr style=\"text-align: right;\">\n",
       "      <th></th>\n",
       "      <th>book_id</th>\n",
       "      <th>authors</th>\n",
       "      <th>title</th>\n",
       "      <th>rating</th>\n",
       "    </tr>\n",
       "  </thead>\n",
       "  <tbody>\n",
       "    <tr>\n",
       "      <td>3627</td>\n",
       "      <td>3628</td>\n",
       "      <td>Bill Watterson</td>\n",
       "      <td>The Complete Calvin and Hobbes</td>\n",
       "      <td>4.829876</td>\n",
       "    </tr>\n",
       "    <tr>\n",
       "      <td>7946</td>\n",
       "      <td>7947</td>\n",
       "      <td>Anonymous, Lane T. Dennis, Wayne A. Grudem</td>\n",
       "      <td>ESV Study Bible</td>\n",
       "      <td>4.818182</td>\n",
       "    </tr>\n",
       "    <tr>\n",
       "      <td>9565</td>\n",
       "      <td>9566</td>\n",
       "      <td>Bill Watterson</td>\n",
       "      <td>Attack of the Deranged Mutant Killer Monster S...</td>\n",
       "      <td>4.768707</td>\n",
       "    </tr>\n",
       "    <tr>\n",
       "      <td>6919</td>\n",
       "      <td>6920</td>\n",
       "      <td>Bill Watterson</td>\n",
       "      <td>The Indispensable Calvin and Hobbes</td>\n",
       "      <td>4.766355</td>\n",
       "    </tr>\n",
       "    <tr>\n",
       "      <td>8977</td>\n",
       "      <td>8978</td>\n",
       "      <td>Bill Watterson</td>\n",
       "      <td>The Revenge of the Baby-Sat</td>\n",
       "      <td>4.761364</td>\n",
       "    </tr>\n",
       "    <tr>\n",
       "      <td>6360</td>\n",
       "      <td>6361</td>\n",
       "      <td>Bill Watterson</td>\n",
       "      <td>There's Treasure Everywhere: A Calvin and Hobb...</td>\n",
       "      <td>4.760456</td>\n",
       "    </tr>\n",
       "    <tr>\n",
       "      <td>6589</td>\n",
       "      <td>6590</td>\n",
       "      <td>Bill Watterson</td>\n",
       "      <td>The Authoritative Calvin and Hobbes: A Calvin ...</td>\n",
       "      <td>4.757202</td>\n",
       "    </tr>\n",
       "    <tr>\n",
       "      <td>4482</td>\n",
       "      <td>4483</td>\n",
       "      <td>Bill Watterson</td>\n",
       "      <td>It's a Magical World: A Calvin and Hobbes Coll...</td>\n",
       "      <td>4.747396</td>\n",
       "    </tr>\n",
       "    <tr>\n",
       "      <td>3274</td>\n",
       "      <td>3275</td>\n",
       "      <td>J.K. Rowling, Mary GrandPré</td>\n",
       "      <td>Harry Potter Boxed Set, Books 1-5 (Harry Potte...</td>\n",
       "      <td>4.736842</td>\n",
       "    </tr>\n",
       "    <tr>\n",
       "      <td>1787</td>\n",
       "      <td>1788</td>\n",
       "      <td>Bill Watterson</td>\n",
       "      <td>The Calvin and Hobbes Tenth Anniversary Book</td>\n",
       "      <td>4.728528</td>\n",
       "    </tr>\n",
       "  </tbody>\n",
       "</table>\n",
       "</div>"
      ],
      "text/plain": [
       "      book_id                                     authors  \\\n",
       "3627     3628                              Bill Watterson   \n",
       "7946     7947  Anonymous, Lane T. Dennis, Wayne A. Grudem   \n",
       "9565     9566                              Bill Watterson   \n",
       "6919     6920                              Bill Watterson   \n",
       "8977     8978                              Bill Watterson   \n",
       "6360     6361                              Bill Watterson   \n",
       "6589     6590                              Bill Watterson   \n",
       "4482     4483                              Bill Watterson   \n",
       "3274     3275                 J.K. Rowling, Mary GrandPré   \n",
       "1787     1788                              Bill Watterson   \n",
       "\n",
       "                                                  title    rating  \n",
       "3627                     The Complete Calvin and Hobbes  4.829876  \n",
       "7946                                    ESV Study Bible  4.818182  \n",
       "9565  Attack of the Deranged Mutant Killer Monster S...  4.768707  \n",
       "6919                The Indispensable Calvin and Hobbes  4.766355  \n",
       "8977                        The Revenge of the Baby-Sat  4.761364  \n",
       "6360  There's Treasure Everywhere: A Calvin and Hobb...  4.760456  \n",
       "6589  The Authoritative Calvin and Hobbes: A Calvin ...  4.757202  \n",
       "4482  It's a Magical World: A Calvin and Hobbes Coll...  4.747396  \n",
       "3274  Harry Potter Boxed Set, Books 1-5 (Harry Potte...  4.736842  \n",
       "1787       The Calvin and Hobbes Tenth Anniversary Book  4.728528  "
      ]
     },
     "execution_count": 15,
     "metadata": {},
     "output_type": "execute_result"
    }
   ],
   "source": [
    "top_list.sort_values('rating',ascending = False).head(10)"
   ]
  },
  {
   "cell_type": "markdown",
   "metadata": {},
   "source": [
    "Clearly, above result is not efficient. it is just a list of top 10 books which were rated well."
   ]
  },
  {
   "cell_type": "code",
   "execution_count": null,
   "metadata": {},
   "outputs": [],
   "source": []
  },
  {
   "cell_type": "markdown",
   "metadata": {},
   "source": [
    "### 2) Content based recommendations"
   ]
  },
  {
   "cell_type": "code",
   "execution_count": 17,
   "metadata": {},
   "outputs": [],
   "source": [
    "df_book = df_book[['book_id','authors','original_title']]"
   ]
  },
  {
   "cell_type": "code",
   "execution_count": 18,
   "metadata": {},
   "outputs": [],
   "source": [
    "gen_list = df_genres.tag_name.tolist()"
   ]
  },
  {
   "cell_type": "code",
   "execution_count": 19,
   "metadata": {},
   "outputs": [],
   "source": [
    "df_tags = df_tags[df_tags.tag_name.isin(gen_list)]"
   ]
  },
  {
   "cell_type": "code",
   "execution_count": 20,
   "metadata": {},
   "outputs": [],
   "source": [
    "df_merged_tags = pd.merge(df_book_tags, df_tags, on = 'tag_id') "
   ]
  },
  {
   "cell_type": "code",
   "execution_count": 21,
   "metadata": {},
   "outputs": [
    {
     "data": {
      "text/html": [
       "<div>\n",
       "<style scoped>\n",
       "    .dataframe tbody tr th:only-of-type {\n",
       "        vertical-align: middle;\n",
       "    }\n",
       "\n",
       "    .dataframe tbody tr th {\n",
       "        vertical-align: top;\n",
       "    }\n",
       "\n",
       "    .dataframe thead th {\n",
       "        text-align: right;\n",
       "    }\n",
       "</style>\n",
       "<table border=\"1\" class=\"dataframe\">\n",
       "  <thead>\n",
       "    <tr style=\"text-align: right;\">\n",
       "      <th></th>\n",
       "      <th>goodreads_book_id</th>\n",
       "      <th>tag_id</th>\n",
       "      <th>count</th>\n",
       "      <th>tag_name</th>\n",
       "    </tr>\n",
       "  </thead>\n",
       "  <tbody>\n",
       "    <tr>\n",
       "      <td>0</td>\n",
       "      <td>1</td>\n",
       "      <td>11305</td>\n",
       "      <td>37174</td>\n",
       "      <td>fantasy</td>\n",
       "    </tr>\n",
       "    <tr>\n",
       "      <td>1</td>\n",
       "      <td>2</td>\n",
       "      <td>11305</td>\n",
       "      <td>3441</td>\n",
       "      <td>fantasy</td>\n",
       "    </tr>\n",
       "    <tr>\n",
       "      <td>2</td>\n",
       "      <td>3</td>\n",
       "      <td>11305</td>\n",
       "      <td>47478</td>\n",
       "      <td>fantasy</td>\n",
       "    </tr>\n",
       "    <tr>\n",
       "      <td>3</td>\n",
       "      <td>5</td>\n",
       "      <td>11305</td>\n",
       "      <td>39330</td>\n",
       "      <td>fantasy</td>\n",
       "    </tr>\n",
       "    <tr>\n",
       "      <td>4</td>\n",
       "      <td>6</td>\n",
       "      <td>11305</td>\n",
       "      <td>38378</td>\n",
       "      <td>fantasy</td>\n",
       "    </tr>\n",
       "    <tr>\n",
       "      <td>...</td>\n",
       "      <td>...</td>\n",
       "      <td>...</td>\n",
       "      <td>...</td>\n",
       "      <td>...</td>\n",
       "    </tr>\n",
       "    <tr>\n",
       "      <td>215567</td>\n",
       "      <td>16124019</td>\n",
       "      <td>13983</td>\n",
       "      <td>9</td>\n",
       "      <td>harlequin-romance</td>\n",
       "    </tr>\n",
       "    <tr>\n",
       "      <td>215568</td>\n",
       "      <td>17853024</td>\n",
       "      <td>283</td>\n",
       "      <td>4</td>\n",
       "      <td>10th-century</td>\n",
       "    </tr>\n",
       "    <tr>\n",
       "      <td>215569</td>\n",
       "      <td>22608582</td>\n",
       "      <td>4269</td>\n",
       "      <td>6</td>\n",
       "      <td>benghazi</td>\n",
       "    </tr>\n",
       "    <tr>\n",
       "      <td>215570</td>\n",
       "      <td>24612624</td>\n",
       "      <td>12927</td>\n",
       "      <td>24</td>\n",
       "      <td>gender-identity</td>\n",
       "    </tr>\n",
       "    <tr>\n",
       "      <td>215571</td>\n",
       "      <td>27071490</td>\n",
       "      <td>13137</td>\n",
       "      <td>113</td>\n",
       "      <td>ghana</td>\n",
       "    </tr>\n",
       "  </tbody>\n",
       "</table>\n",
       "<p>215572 rows × 4 columns</p>\n",
       "</div>"
      ],
      "text/plain": [
       "        goodreads_book_id  tag_id  count           tag_name\n",
       "0                       1   11305  37174            fantasy\n",
       "1                       2   11305   3441            fantasy\n",
       "2                       3   11305  47478            fantasy\n",
       "3                       5   11305  39330            fantasy\n",
       "4                       6   11305  38378            fantasy\n",
       "...                   ...     ...    ...                ...\n",
       "215567           16124019   13983      9  harlequin-romance\n",
       "215568           17853024     283      4       10th-century\n",
       "215569           22608582    4269      6           benghazi\n",
       "215570           24612624   12927     24    gender-identity\n",
       "215571           27071490   13137    113              ghana\n",
       "\n",
       "[215572 rows x 4 columns]"
      ]
     },
     "execution_count": 21,
     "metadata": {},
     "output_type": "execute_result"
    }
   ],
   "source": [
    "df_merged_tags"
   ]
  },
  {
   "cell_type": "code",
   "execution_count": null,
   "metadata": {},
   "outputs": [],
   "source": [
    "df_full_info = pd.merge(df_book,df_merged_tags,on='book_id')"
   ]
  },
  {
   "cell_type": "code",
   "execution_count": null,
   "metadata": {},
   "outputs": [],
   "source": [
    "df_full_combined_tags = df_full_info.groupby('goodreads_book_id')['tag_name'].apply(lambda x: \"%s\" % ' '.join(x)).reset_index()"
   ]
  },
  {
   "cell_type": "code",
   "execution_count": null,
   "metadata": {},
   "outputs": [],
   "source": [
    "df_full_combined_tags = pd.merge(df_book,df_full_combined_tags,on='goodreads_book_id')"
   ]
  },
  {
   "cell_type": "code",
   "execution_count": null,
   "metadata": {},
   "outputs": [],
   "source": [
    "df_full_combined_tags['authors'] = df_full_combined_tags['authors'].astype('str').apply(lambda x: str.lower(x.replace(\" \", \"\")))"
   ]
  },
  {
   "cell_type": "code",
   "execution_count": null,
   "metadata": {},
   "outputs": [],
   "source": [
    "df_full_combined_tags['authors'] = df_full_combined_tags['authors'].astype('str').apply(lambda x: str.lower(x.replace(\",\", \" \")))"
   ]
  },
  {
   "cell_type": "code",
   "execution_count": null,
   "metadata": {},
   "outputs": [],
   "source": [
    "df_full_combined_tags['Final_string'] = df_full_combined_tags['authors'] + ' ' + df_full_combined_tags['tag_name']"
   ]
  },
  {
   "cell_type": "code",
   "execution_count": null,
   "metadata": {},
   "outputs": [],
   "source": [
    "df_full_combined_tags.Final_string[0]"
   ]
  },
  {
   "cell_type": "code",
   "execution_count": null,
   "metadata": {},
   "outputs": [],
   "source": [
    "cnt_vectr = CountVectorizer(analyzer = 'word', ngram_range = (1, 2), min_df = 0, stop_words = 'english')"
   ]
  },
  {
   "cell_type": "code",
   "execution_count": null,
   "metadata": {},
   "outputs": [],
   "source": [
    "token_Matrix =  cnt_vectr.fit_transform(df_full_combined_tags.Final_string)"
   ]
  },
  {
   "cell_type": "code",
   "execution_count": null,
   "metadata": {},
   "outputs": [],
   "source": [
    "cos_sim = cosine_similarity(token_Matrix,token_Matrix)"
   ]
  },
  {
   "cell_type": "code",
   "execution_count": null,
   "metadata": {},
   "outputs": [],
   "source": [
    "df_full_combined_tags = df_full_combined_tags.reset_index()\n",
    "bookTitles = df_full_combined_tags['original_title']\n",
    "indices = pd.Series(df_full_combined_tags.index, index = bookTitles)"
   ]
  },
  {
   "cell_type": "code",
   "execution_count": null,
   "metadata": {},
   "outputs": [],
   "source": [
    "def MoreLikeThis(title):\n",
    "    index = indices[title]\n",
    "    similarityScore = list(enumerate(cos_sim[index]))\n",
    "    similarityScore = sorted(similarityScore, key = lambda x: x[1], reverse = True)\n",
    "    similarityScore = similarityScore[1:11]\n",
    "    bookIndex = [i[0] for i in similarityScore]\n",
    "    return bookTitles.iloc[bookIndex]"
   ]
  },
  {
   "cell_type": "code",
   "execution_count": null,
   "metadata": {},
   "outputs": [],
   "source": [
    "MoreLikeThis('The Hunger Games')"
   ]
  },
  {
   "cell_type": "code",
   "execution_count": null,
   "metadata": {},
   "outputs": [],
   "source": [
    "u2 = df_ratings[df_ratings.user_id==2]"
   ]
  },
  {
   "cell_type": "code",
   "execution_count": null,
   "metadata": {},
   "outputs": [],
   "source": [
    "u2_blist = u2.book_id.tolist()"
   ]
  },
  {
   "cell_type": "code",
   "execution_count": null,
   "metadata": {
    "scrolled": false
   },
   "outputs": [],
   "source": [
    "u2_blist\n"
   ]
  },
  {
   "cell_type": "code",
   "execution_count": null,
   "metadata": {},
   "outputs": [],
   "source": [
    "(df_book.goodreads_book_id==127).value_counts()"
   ]
  },
  {
   "cell_type": "code",
   "execution_count": null,
   "metadata": {},
   "outputs": [],
   "source": [
    "(df_book.goodreads_book_id == u2_blist[2]).value_counts()"
   ]
  },
  {
   "cell_type": "code",
   "execution_count": null,
   "metadata": {
    "scrolled": false
   },
   "outputs": [],
   "source": [
    "df_book[df_book.goodreads_book_id == u2_blist[2]].original_title"
   ]
  },
  {
   "cell_type": "code",
   "execution_count": null,
   "metadata": {},
   "outputs": [],
   "source": [
    "result = MoreLikeThis('Harry Potter and the Order of the Phoenix')"
   ]
  },
  {
   "cell_type": "code",
   "execution_count": null,
   "metadata": {},
   "outputs": [],
   "source": [
    "res_list = result.index.tolist()"
   ]
  },
  {
   "cell_type": "code",
   "execution_count": null,
   "metadata": {},
   "outputs": [],
   "source": [
    "u2_blist = set(u2_blist)\n",
    "res_list = set(res_list)"
   ]
  },
  {
   "cell_type": "code",
   "execution_count": null,
   "metadata": {},
   "outputs": [],
   "source": [
    "overlap = u2_blist & res_list\n",
    "print(overlap)"
   ]
  },
  {
   "cell_type": "code",
   "execution_count": null,
   "metadata": {},
   "outputs": [],
   "source": [
    "match = float(len(overlap)) / len(res_list) * 100\n",
    "print(match)"
   ]
  },
  {
   "cell_type": "code",
   "execution_count": null,
   "metadata": {},
   "outputs": [],
   "source": [
    "df_book.book_id.max()"
   ]
  },
  {
   "cell_type": "code",
   "execution_count": null,
   "metadata": {},
   "outputs": [],
   "source": [
    "df_ratings.book_id.max()"
   ]
  },
  {
   "cell_type": "code",
   "execution_count": null,
   "metadata": {},
   "outputs": [],
   "source": []
  },
  {
   "cell_type": "code",
   "execution_count": null,
   "metadata": {},
   "outputs": [],
   "source": []
  },
  {
   "cell_type": "code",
   "execution_count": null,
   "metadata": {},
   "outputs": [],
   "source": []
  },
  {
   "cell_type": "code",
   "execution_count": null,
   "metadata": {},
   "outputs": [],
   "source": []
  },
  {
   "cell_type": "code",
   "execution_count": null,
   "metadata": {},
   "outputs": [],
   "source": []
  },
  {
   "cell_type": "code",
   "execution_count": null,
   "metadata": {},
   "outputs": [],
   "source": []
  },
  {
   "cell_type": "code",
   "execution_count": null,
   "metadata": {},
   "outputs": [],
   "source": []
  },
  {
   "cell_type": "code",
   "execution_count": null,
   "metadata": {},
   "outputs": [],
   "source": []
  },
  {
   "cell_type": "code",
   "execution_count": null,
   "metadata": {},
   "outputs": [],
   "source": []
  },
  {
   "cell_type": "code",
   "execution_count": null,
   "metadata": {},
   "outputs": [],
   "source": []
  },
  {
   "cell_type": "code",
   "execution_count": null,
   "metadata": {},
   "outputs": [],
   "source": []
  },
  {
   "cell_type": "code",
   "execution_count": null,
   "metadata": {},
   "outputs": [],
   "source": []
  },
  {
   "cell_type": "code",
   "execution_count": null,
   "metadata": {},
   "outputs": [],
   "source": []
  },
  {
   "cell_type": "code",
   "execution_count": null,
   "metadata": {},
   "outputs": [],
   "source": []
  },
  {
   "cell_type": "code",
   "execution_count": null,
   "metadata": {},
   "outputs": [],
   "source": []
  },
  {
   "cell_type": "code",
   "execution_count": null,
   "metadata": {},
   "outputs": [],
   "source": [
    "def accuracy(u_id):\n",
    "    u = df_ratings[df_ratings.user_id==u_id]\n",
    "    \n",
    "    u_blist = u.book_id.tolist()\n",
    "    \n",
    "    for i in u_blist:\n",
    "        print(i)\n",
    "        for j in df_book.goodreads_book_id:\n",
    "            print(j)\n",
    "            if (i == j):\n",
    "                title = df_book[df_book.goodreads_book_id==i].original_title\n",
    "                print('----')\n",
    "            else:\n",
    "                print('goint to next')\n",
    "                print('========')\n",
    "            \n",
    "            \n",
    "        \n",
    "                            \n",
    "    result = MoreLikeThis(title)\n",
    "    \n",
    "    res_list = result.index.tolist()\n",
    "    u_blist = set(u_blist)\n",
    "    \n",
    "    res_list = set(res_list)\n",
    "   \n",
    "    overlap = u_blist & res_list\n",
    "   \n",
    "    match = float(len(overlap)) / len(res_list) * 100\n",
    "    print(match)\n",
    "    \n",
    "    \n",
    "    \n",
    "    "
   ]
  },
  {
   "cell_type": "code",
   "execution_count": null,
   "metadata": {},
   "outputs": [],
   "source": []
  }
 ],
 "metadata": {
  "kernelspec": {
   "display_name": "Python 3",
   "language": "python",
   "name": "python3"
  },
  "language_info": {
   "codemirror_mode": {
    "name": "ipython",
    "version": 3
   },
   "file_extension": ".py",
   "mimetype": "text/x-python",
   "name": "python",
   "nbconvert_exporter": "python",
   "pygments_lexer": "ipython3",
   "version": "3.7.4"
  }
 },
 "nbformat": 4,
 "nbformat_minor": 2
}
