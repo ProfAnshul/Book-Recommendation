{
 "cells": [
  {
   "cell_type": "markdown",
   "metadata": {},
   "source": [
    "**Total five csv file are going to be used in this notebook:**\n",
    "\n",
    "    1) books.csv\n",
    "    2) ratings.csv\n",
    "    3) tags.csv\n",
    "    4) to_read.csv\n",
    "    5) book_tags.csv"
   ]
  },
  {
   "cell_type": "code",
   "execution_count": 1,
   "metadata": {},
   "outputs": [],
   "source": [
    "import pandas as pd\n",
    "import matplotlib.pyplot as plt\n",
    "import numpy as np\n",
    "import seaborn as sns"
   ]
  },
  {
   "cell_type": "code",
   "execution_count": 2,
   "metadata": {},
   "outputs": [
    {
     "data": {
      "text/html": [
       "<style>body {\n",
       "    margin: 0;\n",
       "    font-family: Helvetica;\n",
       "}\n",
       "table.dataframe {\n",
       "    border-collapse: collapse;\n",
       "    border: none;\n",
       "}\n",
       "table.dataframe tr {\n",
       "    border: none;\n",
       "}\n",
       "table.dataframe td, table.dataframe th {\n",
       "    margin: 0;\n",
       "    border: 1px solid white;\n",
       "    padding-left: 0.25em;\n",
       "    padding-right: 0.25em;\n",
       "}\n",
       "table.dataframe th:not(:empty) {\n",
       "    background-color: #fec;\n",
       "    text-align: left;\n",
       "    font-weight: normal;\n",
       "}\n",
       "table.dataframe tr:nth-child(2) th:empty {\n",
       "    border-left: none;\n",
       "    border-right: 1px dashed #888;\n",
       "}\n",
       "table.dataframe td {\n",
       "    border: 2px solid #ccf;\n",
       "    background-color: #f4f4ff;\n",
       "}\n",
       "h3 {\n",
       "    color: white;\n",
       "    background-color: black;\n",
       "    padding: 0.5em;\n",
       "}\n",
       "</style>"
      ],
      "text/plain": [
       "<IPython.core.display.HTML object>"
      ]
     },
     "execution_count": 2,
     "metadata": {},
     "output_type": "execute_result"
    }
   ],
   "source": [
    "from IPython.core.display import HTML\n",
    "css = open('style-table.css').read() + open('style-notebook.css').read()\n",
    "HTML('<style>{}</style>'.format(css))"
   ]
  },
  {
   "cell_type": "markdown",
   "metadata": {},
   "source": [
    "**Loading books.csv file here**"
   ]
  },
  {
   "cell_type": "code",
   "execution_count": 3,
   "metadata": {},
   "outputs": [],
   "source": [
    "df_books = pd.read_csv('books.csv')"
   ]
  },
  {
   "cell_type": "code",
   "execution_count": 4,
   "metadata": {
    "scrolled": true
   },
   "outputs": [
    {
     "data": {
      "text/html": [
       "<div>\n",
       "<style scoped>\n",
       "    .dataframe tbody tr th:only-of-type {\n",
       "        vertical-align: middle;\n",
       "    }\n",
       "\n",
       "    .dataframe tbody tr th {\n",
       "        vertical-align: top;\n",
       "    }\n",
       "\n",
       "    .dataframe thead th {\n",
       "        text-align: right;\n",
       "    }\n",
       "</style>\n",
       "<table border=\"1\" class=\"dataframe\">\n",
       "  <thead>\n",
       "    <tr style=\"text-align: right;\">\n",
       "      <th></th>\n",
       "      <th>book_id</th>\n",
       "      <th>goodreads_book_id</th>\n",
       "      <th>best_book_id</th>\n",
       "      <th>work_id</th>\n",
       "      <th>books_count</th>\n",
       "      <th>isbn</th>\n",
       "      <th>isbn13</th>\n",
       "      <th>authors</th>\n",
       "      <th>original_publication_year</th>\n",
       "      <th>original_title</th>\n",
       "      <th>...</th>\n",
       "      <th>ratings_count</th>\n",
       "      <th>work_ratings_count</th>\n",
       "      <th>work_text_reviews_count</th>\n",
       "      <th>ratings_1</th>\n",
       "      <th>ratings_2</th>\n",
       "      <th>ratings_3</th>\n",
       "      <th>ratings_4</th>\n",
       "      <th>ratings_5</th>\n",
       "      <th>image_url</th>\n",
       "      <th>small_image_url</th>\n",
       "    </tr>\n",
       "  </thead>\n",
       "  <tbody>\n",
       "    <tr>\n",
       "      <td>0</td>\n",
       "      <td>1</td>\n",
       "      <td>2767052</td>\n",
       "      <td>2767052</td>\n",
       "      <td>2792775</td>\n",
       "      <td>272</td>\n",
       "      <td>439023483</td>\n",
       "      <td>9.780439e+12</td>\n",
       "      <td>Suzanne Collins</td>\n",
       "      <td>2008.0</td>\n",
       "      <td>The Hunger Games</td>\n",
       "      <td>...</td>\n",
       "      <td>4780653</td>\n",
       "      <td>4942365</td>\n",
       "      <td>155254</td>\n",
       "      <td>66715</td>\n",
       "      <td>127936</td>\n",
       "      <td>560092</td>\n",
       "      <td>1481305</td>\n",
       "      <td>2706317</td>\n",
       "      <td>https://images.gr-assets.com/books/1447303603m...</td>\n",
       "      <td>https://images.gr-assets.com/books/1447303603s...</td>\n",
       "    </tr>\n",
       "    <tr>\n",
       "      <td>1</td>\n",
       "      <td>2</td>\n",
       "      <td>3</td>\n",
       "      <td>3</td>\n",
       "      <td>4640799</td>\n",
       "      <td>491</td>\n",
       "      <td>439554934</td>\n",
       "      <td>9.780440e+12</td>\n",
       "      <td>J.K. Rowling, Mary GrandPré</td>\n",
       "      <td>1997.0</td>\n",
       "      <td>Harry Potter and the Philosopher's Stone</td>\n",
       "      <td>...</td>\n",
       "      <td>4602479</td>\n",
       "      <td>4800065</td>\n",
       "      <td>75867</td>\n",
       "      <td>75504</td>\n",
       "      <td>101676</td>\n",
       "      <td>455024</td>\n",
       "      <td>1156318</td>\n",
       "      <td>3011543</td>\n",
       "      <td>https://images.gr-assets.com/books/1474154022m...</td>\n",
       "      <td>https://images.gr-assets.com/books/1474154022s...</td>\n",
       "    </tr>\n",
       "    <tr>\n",
       "      <td>2</td>\n",
       "      <td>3</td>\n",
       "      <td>41865</td>\n",
       "      <td>41865</td>\n",
       "      <td>3212258</td>\n",
       "      <td>226</td>\n",
       "      <td>316015849</td>\n",
       "      <td>9.780316e+12</td>\n",
       "      <td>Stephenie Meyer</td>\n",
       "      <td>2005.0</td>\n",
       "      <td>Twilight</td>\n",
       "      <td>...</td>\n",
       "      <td>3866839</td>\n",
       "      <td>3916824</td>\n",
       "      <td>95009</td>\n",
       "      <td>456191</td>\n",
       "      <td>436802</td>\n",
       "      <td>793319</td>\n",
       "      <td>875073</td>\n",
       "      <td>1355439</td>\n",
       "      <td>https://images.gr-assets.com/books/1361039443m...</td>\n",
       "      <td>https://images.gr-assets.com/books/1361039443s...</td>\n",
       "    </tr>\n",
       "  </tbody>\n",
       "</table>\n",
       "<p>3 rows × 23 columns</p>\n",
       "</div>"
      ],
      "text/plain": [
       "   book_id  goodreads_book_id  best_book_id  work_id  books_count       isbn  \\\n",
       "0        1            2767052       2767052  2792775          272  439023483   \n",
       "1        2                  3             3  4640799          491  439554934   \n",
       "2        3              41865         41865  3212258          226  316015849   \n",
       "\n",
       "         isbn13                      authors  original_publication_year  \\\n",
       "0  9.780439e+12              Suzanne Collins                     2008.0   \n",
       "1  9.780440e+12  J.K. Rowling, Mary GrandPré                     1997.0   \n",
       "2  9.780316e+12              Stephenie Meyer                     2005.0   \n",
       "\n",
       "                             original_title  ... ratings_count  \\\n",
       "0                          The Hunger Games  ...       4780653   \n",
       "1  Harry Potter and the Philosopher's Stone  ...       4602479   \n",
       "2                                  Twilight  ...       3866839   \n",
       "\n",
       "  work_ratings_count  work_text_reviews_count  ratings_1  ratings_2  \\\n",
       "0            4942365                   155254      66715     127936   \n",
       "1            4800065                    75867      75504     101676   \n",
       "2            3916824                    95009     456191     436802   \n",
       "\n",
       "   ratings_3  ratings_4  ratings_5  \\\n",
       "0     560092    1481305    2706317   \n",
       "1     455024    1156318    3011543   \n",
       "2     793319     875073    1355439   \n",
       "\n",
       "                                           image_url  \\\n",
       "0  https://images.gr-assets.com/books/1447303603m...   \n",
       "1  https://images.gr-assets.com/books/1474154022m...   \n",
       "2  https://images.gr-assets.com/books/1361039443m...   \n",
       "\n",
       "                                     small_image_url  \n",
       "0  https://images.gr-assets.com/books/1447303603s...  \n",
       "1  https://images.gr-assets.com/books/1474154022s...  \n",
       "2  https://images.gr-assets.com/books/1361039443s...  \n",
       "\n",
       "[3 rows x 23 columns]"
      ]
     },
     "execution_count": 4,
     "metadata": {},
     "output_type": "execute_result"
    }
   ],
   "source": [
    "df_books.head(3)"
   ]
  },
  {
   "cell_type": "markdown",
   "metadata": {},
   "source": [
    "**Before analysing the data , there are few basic details we should always learn abouth the data. I am going to use few commands here to get the basic details.**"
   ]
  },
  {
   "cell_type": "code",
   "execution_count": 5,
   "metadata": {},
   "outputs": [
    {
     "data": {
      "text/plain": [
       "(10000, 23)"
      ]
     },
     "execution_count": 5,
     "metadata": {},
     "output_type": "execute_result"
    }
   ],
   "source": [
    "df_books.shape    # There are 10000 rows and 23 columns"
   ]
  },
  {
   "cell_type": "code",
   "execution_count": 6,
   "metadata": {},
   "outputs": [
    {
     "data": {
      "text/plain": [
       "4664"
      ]
     },
     "execution_count": 6,
     "metadata": {},
     "output_type": "execute_result"
    }
   ],
   "source": [
    "df_books.authors.nunique()  # There are only 4664 unique authors out of 10000 entries"
   ]
  },
  {
   "cell_type": "code",
   "execution_count": 7,
   "metadata": {
    "scrolled": true
   },
   "outputs": [
    {
     "data": {
      "text/plain": [
       "Stephen King                     60\n",
       "Nora Roberts                     59\n",
       "Dean Koontz                      47\n",
       "Terry Pratchett                  42\n",
       "Agatha Christie                  39\n",
       "                                 ..\n",
       "Thomas E. Sniegoski               1\n",
       "Brandon Sanderson, Jon Foster     1\n",
       "Rita Golden Gelman                1\n",
       "Gordon B. Hinckley                1\n",
       "Jonathan L. Howard                1\n",
       "Name: authors, Length: 4664, dtype: int64"
      ]
     },
     "execution_count": 7,
     "metadata": {},
     "output_type": "execute_result"
    }
   ],
   "source": [
    "df_books.authors.value_counts()  # Frequency of book written by individual author\n",
    "\n"
   ]
  },
  {
   "cell_type": "code",
   "execution_count": 8,
   "metadata": {},
   "outputs": [
    {
     "name": "stdout",
     "output_type": "stream",
     "text": [
      "2017.0\n",
      "-1750.0\n"
     ]
    }
   ],
   "source": [
    "print(df_books.original_publication_year.max())\n",
    "print(df_books.original_publication_year.min())\n",
    "\n",
    "# Here, min() shows a wrong entry in 'original_publication_year' as it is negative\n"
   ]
  },
  {
   "cell_type": "code",
   "execution_count": null,
   "metadata": {},
   "outputs": [],
   "source": []
  },
  {
   "cell_type": "code",
   "execution_count": 9,
   "metadata": {},
   "outputs": [
    {
     "data": {
      "text/plain": [
       "21"
      ]
     },
     "execution_count": 9,
     "metadata": {},
     "output_type": "execute_result"
    }
   ],
   "source": [
    "df_books.original_publication_year.isna().sum() # Total 21  empty places in 'original_publication_year' column"
   ]
  },
  {
   "cell_type": "code",
   "execution_count": 10,
   "metadata": {
    "scrolled": true
   },
   "outputs": [
    {
     "data": {
      "text/plain": [
       "9979"
      ]
     },
     "execution_count": 10,
     "metadata": {},
     "output_type": "execute_result"
    }
   ],
   "source": [
    "df_books.original_publication_year.count()  # just to cross check above output. Count() shows that there are 9979 \n",
    "                                            # entries with non numeric data \n"
   ]
  },
  {
   "cell_type": "code",
   "execution_count": 11,
   "metadata": {},
   "outputs": [],
   "source": [
    "#This a method to clip those rows where value is lower than 0 . It is not required here.\n",
    "\n",
    "#df_books.original_publication_year = df_books.original_publication_year.clip(lower=0) "
   ]
  },
  {
   "cell_type": "code",
   "execution_count": 12,
   "metadata": {
    "scrolled": true
   },
   "outputs": [
    {
     "data": {
      "text/plain": [
       "False    9969\n",
       "True       31\n",
       "Name: original_publication_year, dtype: int64"
      ]
     },
     "execution_count": 12,
     "metadata": {},
     "output_type": "execute_result"
    }
   ],
   "source": [
    "(df_books.original_publication_year<0).value_counts()"
   ]
  },
  {
   "cell_type": "markdown",
   "metadata": {},
   "source": [
    "**It seems that 'goodreads_book_id' and 'best_book_id' column are same. Lets check it.**"
   ]
  },
  {
   "cell_type": "code",
   "execution_count": 13,
   "metadata": {},
   "outputs": [
    {
     "name": "stdout",
     "output_type": "stream",
     "text": [
      "241\n"
     ]
    }
   ],
   "source": [
    "g = df_books['goodreads_book_id'] - df_books['best_book_id']\n",
    "\n",
    "count_diff = 0\n",
    "\n",
    "for k in g:\n",
    "    if k!=0:\n",
    "        count_diff = count_diff +1\n",
    "\n",
    "print(count_diff)\n",
    "    \n",
    "# Output of this for loop says that there are 241 places where entries are not matching. \n",
    "# As of now I am dropping this 'best_book_id' column. \n"
   ]
  },
  {
   "cell_type": "code",
   "execution_count": 14,
   "metadata": {},
   "outputs": [
    {
     "data": {
      "text/plain": [
       "8916"
      ]
     },
     "execution_count": 14,
     "metadata": {},
     "output_type": "execute_result"
    }
   ],
   "source": [
    "df_books.language_code.value_counts().sum()  # Result shows that there are 1184 empty cells in 'language_code' column"
   ]
  },
  {
   "cell_type": "code",
   "execution_count": 15,
   "metadata": {},
   "outputs": [
    {
     "data": {
      "text/plain": [
       "count     8916\n",
       "unique      25\n",
       "top        eng\n",
       "freq      6341\n",
       "Name: language_code, dtype: object"
      ]
     },
     "execution_count": 15,
     "metadata": {},
     "output_type": "execute_result"
    }
   ],
   "source": [
    "l1 = df_books.language_code.describe()  # Result shows that 10000 books are written in 25 different types of langauges\n",
    "                                        # Maximum books are written in english. in percentage its 71.11 %\n",
    "l1"
   ]
  },
  {
   "cell_type": "code",
   "execution_count": 16,
   "metadata": {},
   "outputs": [
    {
     "data": {
      "text/plain": [
       "eng      6341\n",
       "en-US    2070\n",
       "en-GB     257\n",
       "ara        64\n",
       "en-CA      58\n",
       "fre        25\n",
       "ind        21\n",
       "spa        20\n",
       "ger        13\n",
       "jpn         7\n",
       "per         7\n",
       "por         6\n",
       "pol         6\n",
       "en          4\n",
       "nor         3\n",
       "dan         3\n",
       "fil         2\n",
       "ita         2\n",
       "rum         1\n",
       "vie         1\n",
       "swe         1\n",
       "rus         1\n",
       "nl          1\n",
       "mul         1\n",
       "tur         1\n",
       "Name: language_code, dtype: int64"
      ]
     },
     "execution_count": 16,
     "metadata": {},
     "output_type": "execute_result"
    }
   ],
   "source": [
    "l2 = df_books.language_code.value_counts()    # Here we can see that there are various variations in english language . \n",
    "                                                 \n",
    "l2"
   ]
  },
  {
   "cell_type": "code",
   "execution_count": 18,
   "metadata": {},
   "outputs": [
    {
     "data": {
      "text/plain": [
       "True     8730\n",
       "False    1270\n",
       "Name: language_code, dtype: int64"
      ]
     },
     "execution_count": 18,
     "metadata": {},
     "output_type": "execute_result"
    }
   ],
   "source": [
    "# to get the total number of books written in english , we can use regex as follows:\n",
    "\n",
    "(df_books.language_code.str.count(r'(^en.*)')==1).value_counts()"
   ]
  },
  {
   "cell_type": "markdown",
   "metadata": {},
   "source": [
    "Result shows that total 8730 books are written in english language out of 8916  which is approx 98% of the total available books. "
   ]
  },
  {
   "cell_type": "code",
   "execution_count": null,
   "metadata": {},
   "outputs": [],
   "source": [
    "df_ratings[df_ratings['book_id']==123]['rating'].value_counts()"
   ]
  },
  {
   "cell_type": "code",
   "execution_count": null,
   "metadata": {
    "scrolled": false
   },
   "outputs": [],
   "source": [
    "df_books[df_books['book_id']==153]\n"
   ]
  },
  {
   "cell_type": "markdown",
   "metadata": {},
   "source": [
    "We can see that there is some difference in rating factor given in df_books and df_ratings. There are many extra entries for rating in df_books.These entries are from non - registered users. we will drop these column and use those rating which are given in df_ratings only."
   ]
  },
  {
   "cell_type": "code",
   "execution_count": null,
   "metadata": {},
   "outputs": [],
   "source": [
    "# List of book ids of Top-20 books\n",
    "\n",
    "df_user_rating = df_ratings.groupby('book_id')['rating'].count().sort_values(ascending=False)\n",
    "df_top_20_books=df_user_rating[0:10]\n",
    "z = list(df_top_20_books.index)\n",
    "z"
   ]
  },
  {
   "cell_type": "code",
   "execution_count": null,
   "metadata": {},
   "outputs": [],
   "source": [
    "# Title of the top rated books\n",
    "\n",
    "df_books[df_books['book_id'].isin(z)]['title']\n"
   ]
  },
  {
   "cell_type": "markdown",
   "metadata": {},
   "source": [
    "## Analysis of df_books DataFrame(24 columns) :\n",
    "    1) 'book_id' : This column is present in df_rating also. We need to merge these both dataframes to get the result\n",
    "    2) 'goodreads_book_id' : These are unique book ids which can be mapped with df_book_tag\n",
    "    3) 'best_book_id','work_id','books_count','isbn','isbn13': All these columns are of no use in further analysis and can         be dropped. \n",
    "    4) 'authors' ,'title' these column will be useful for further analysis.\n",
    "    5) 'Original_title','small_image_url' these columns can be dropped. \n",
    "    6)  There are total six columns related to rating on the scale of 1-5 and then average rating. But this data is not\n",
    "        mapped with ratings given in ratings.csv file. so dicsrding these columns. \n"
   ]
  },
  {
   "cell_type": "code",
   "execution_count": null,
   "metadata": {},
   "outputs": [],
   "source": []
  },
  {
   "cell_type": "markdown",
   "metadata": {},
   "source": [
    "**Lets load the 'ratings.csv' file and explore it**"
   ]
  },
  {
   "cell_type": "code",
   "execution_count": null,
   "metadata": {},
   "outputs": [],
   "source": [
    "df_ratings = pd.read_csv('ratings.csv')\n",
    "df_ratings.head()"
   ]
  },
  {
   "cell_type": "code",
   "execution_count": null,
   "metadata": {},
   "outputs": [],
   "source": [
    "df_ratings.describe()"
   ]
  },
  {
   "cell_type": "code",
   "execution_count": null,
   "metadata": {
    "scrolled": true
   },
   "outputs": [],
   "source": [
    "df_ratings.shape"
   ]
  },
  {
   "cell_type": "code",
   "execution_count": null,
   "metadata": {},
   "outputs": [],
   "source": [
    "df_ratings.columns"
   ]
  },
  {
   "cell_type": "code",
   "execution_count": null,
   "metadata": {},
   "outputs": [],
   "source": [
    "# How many unique users are rating the books ? \n",
    "\n",
    "df_ratings.user_id.nunique()"
   ]
  },
  {
   "cell_type": "code",
   "execution_count": null,
   "metadata": {},
   "outputs": [],
   "source": [
    "df_ratings.user_id.count()"
   ]
  },
  {
   "cell_type": "code",
   "execution_count": null,
   "metadata": {},
   "outputs": [],
   "source": [
    "df_ratings.book_id.nunique()"
   ]
  },
  {
   "cell_type": "code",
   "execution_count": null,
   "metadata": {},
   "outputs": [],
   "source": [
    "df_ratings.book_id.count()"
   ]
  },
  {
   "cell_type": "markdown",
   "metadata": {},
   "source": [
    "We can use aggregate function to get the data which we have calculated in above 4 cells. "
   ]
  },
  {
   "cell_type": "code",
   "execution_count": null,
   "metadata": {},
   "outputs": [],
   "source": [
    "df_ratings.agg(['count','nunique'])"
   ]
  },
  {
   "cell_type": "code",
   "execution_count": null,
   "metadata": {},
   "outputs": [],
   "source": [
    "# Check if any null value in columns\n",
    "\n",
    "df_ratings.user_id.isnull().sum()"
   ]
  },
  {
   "cell_type": "code",
   "execution_count": null,
   "metadata": {},
   "outputs": [],
   "source": [
    "df_ratings.book_id.isnull().sum()"
   ]
  },
  {
   "cell_type": "code",
   "execution_count": null,
   "metadata": {},
   "outputs": [],
   "source": [
    "df_ratings.rating.isnull().sum()"
   ]
  },
  {
   "cell_type": "markdown",
   "metadata": {},
   "source": [
    "**So as per the gathered information we can say that there are total 10000 different books, rated by 53424 unique users with total 5976479 ratings.**"
   ]
  },
  {
   "cell_type": "code",
   "execution_count": null,
   "metadata": {
    "scrolled": true
   },
   "outputs": [],
   "source": [
    "plt.hist(df_ratings.rating)\n",
    "\n",
    "plt.xlabel('Types of Ratings[0-5]')\n",
    "plt.ylabel('Number of Ratings given by the users')\n",
    "plt.title('Relation between Rating and its frequency')\n",
    "plt.grid()\n",
    "\n",
    "plt.savefig(\"Rating vs Freq.png\")\n",
    "plt.show()\n"
   ]
  },
  {
   "cell_type": "code",
   "execution_count": null,
   "metadata": {},
   "outputs": [],
   "source": [
    "## Why this following line gives a different idea about the data\n",
    "# plt.hist(df_ratings['rating'], bins=[0.5, 1.5, 2.5, 3.5, 4.5, 5.5],rwidth=0.5);"
   ]
  },
  {
   "cell_type": "markdown",
   "metadata": {},
   "source": [
    "**Above graph shows that maximum ratings are between 3 to 5 and more than 2 million users rated around 4 . Lets check for the specific numbers.**"
   ]
  },
  {
   "cell_type": "code",
   "execution_count": null,
   "metadata": {},
   "outputs": [],
   "source": [
    "df_ratings[(df_ratings.rating>=4)&(df_ratings.rating<=5)].count()[0]   # Number of ratings between 4 and 5. \n",
    "                                                                       # It is approx 70% of the total rating."
   ]
  },
  {
   "cell_type": "markdown",
   "metadata": {},
   "source": [
    "Lets check how many times a single user gave rating."
   ]
  },
  {
   "cell_type": "code",
   "execution_count": null,
   "metadata": {},
   "outputs": [],
   "source": [
    "df_user_rating = df_ratings.groupby('user_id')['rating']\n"
   ]
  },
  {
   "cell_type": "code",
   "execution_count": null,
   "metadata": {},
   "outputs": [],
   "source": [
    "%%time \n",
    "\n",
    "df_user_rating.describe()"
   ]
  },
  {
   "cell_type": "markdown",
   "metadata": {},
   "source": [
    "**We should pay attention here, The above query took almost 3 minutes . Lets try some ways to reduce the time and make it more efficient**"
   ]
  },
  {
   "cell_type": "code",
   "execution_count": null,
   "metadata": {},
   "outputs": [],
   "source": [
    "df_user_rating = df_ratings.groupby('user_id')['rating'].count().sort_values()\n"
   ]
  },
  {
   "cell_type": "code",
   "execution_count": null,
   "metadata": {
    "scrolled": true
   },
   "outputs": [],
   "source": [
    "%%time \n",
    "df_user_rating.describe()"
   ]
  },
  {
   "cell_type": "markdown",
   "metadata": {},
   "source": [
    "This above query is more useful as it is giving us all over information about rating and user."
   ]
  },
  {
   "cell_type": "code",
   "execution_count": null,
   "metadata": {},
   "outputs": [],
   "source": [
    "plt.hist(df_user_rating,color = 'skyblue')  # plt.hist(df_user_rating,bins=5,color = 'skyblue')\n",
    "                                            # Why bin=5 gives a different output?\n",
    "plt.xlabel('Number of ratings')\n",
    "plt.ylabel('Number of users')\n",
    "plt.title('Number of rated book vs Users')\n",
    "plt.grid()\n",
    "\n",
    "plt.savefig(\"Number of rated book vs Users.png\")\n",
    "plt.show()"
   ]
  },
  {
   "cell_type": "markdown",
   "metadata": {},
   "source": [
    "Now we will examine the book information. Lets start with How many times a book has been rated?"
   ]
  },
  {
   "cell_type": "code",
   "execution_count": null,
   "metadata": {},
   "outputs": [],
   "source": [
    "series_book_rating = df_ratings.groupby('book_id')['rating'].count().sort_values(ascending=False)\n",
    "series_book_rating.describe()"
   ]
  },
  {
   "cell_type": "code",
   "execution_count": null,
   "metadata": {},
   "outputs": [],
   "source": [
    "series_book_rating.head()"
   ]
  },
  {
   "cell_type": "code",
   "execution_count": null,
   "metadata": {
    "scrolled": true
   },
   "outputs": [],
   "source": [
    "series_book_rating.tail()"
   ]
  },
  {
   "cell_type": "code",
   "execution_count": null,
   "metadata": {
    "scrolled": true
   },
   "outputs": [],
   "source": [
    "series_book_rating.index"
   ]
  },
  {
   "cell_type": "code",
   "execution_count": null,
   "metadata": {
    "scrolled": true
   },
   "outputs": [],
   "source": [
    "series_book_rating.sort_index().index"
   ]
  },
  {
   "cell_type": "code",
   "execution_count": null,
   "metadata": {},
   "outputs": [],
   "source": [
    "x = list(series_book_rating.sort_index().index)\n"
   ]
  },
  {
   "cell_type": "code",
   "execution_count": null,
   "metadata": {},
   "outputs": [],
   "source": [
    "series_book_rating.sort_index().head()"
   ]
  },
  {
   "cell_type": "code",
   "execution_count": null,
   "metadata": {},
   "outputs": [],
   "source": [
    "y = list(series_book_rating.sort_index())"
   ]
  },
  {
   "cell_type": "markdown",
   "metadata": {},
   "source": [
    "Here x represents a list of sorted index numbers which is (1-10000) and y represents number of ratings for specifc index number.In x and y, index number is book_id only. Now We can plot a graph between these two entities to find the relation ."
   ]
  },
  {
   "cell_type": "code",
   "execution_count": null,
   "metadata": {},
   "outputs": [],
   "source": [
    "\n",
    "plt.scatter(x,y)\n",
    "plt.title('Book vs Rating')\n",
    "plt.xlabel('Book id ')\n",
    "plt.ylabel('Ratings')\n",
    "\n",
    "plt.grid(True)\n",
    "plt.savefig('Book vs Rating.png');\n",
    "plt.show()"
   ]
  },
  {
   "cell_type": "markdown",
   "metadata": {},
   "source": [
    "In the above graph we can see that most of the entries are touching x-axis and y-axis . This state of graph is not suitable for further analysis. To improve the visibility, we can use log scale. "
   ]
  },
  {
   "cell_type": "code",
   "execution_count": null,
   "metadata": {},
   "outputs": [],
   "source": [
    "plt.scatter(x,y,s=1,alpha=.1)\n",
    "plt.title('Book vs Rating')\n",
    "plt.xlabel('Book id ')\n",
    "plt.ylabel('Ratings')\n",
    "plt.yscale('log')\n",
    "\n",
    "plt.grid(True)\n",
    "plt.savefig('Book vs Rating.png');\n",
    "plt.show()"
   ]
  },
  {
   "cell_type": "markdown",
   "metadata": {},
   "source": [
    "See the difference! only marker-size(s) and alpha(which makes graph opaque or transparent) added and log scale. Graph shows that maximum books are rated between 100 to 1000 times. We can a corelation between book_id and rating as well."
   ]
  },
  {
   "cell_type": "code",
   "execution_count": null,
   "metadata": {},
   "outputs": [],
   "source": [
    "(df_ratings.loc[df_ratings.book_id == 1,'rating']).count()  #exact number of ratings given to book_id = 1 "
   ]
  },
  {
   "cell_type": "code",
   "execution_count": null,
   "metadata": {},
   "outputs": [],
   "source": []
  },
  {
   "cell_type": "markdown",
   "metadata": {},
   "source": [
    "***Lets load the 'tags.csv' file and explore it***"
   ]
  },
  {
   "cell_type": "code",
   "execution_count": null,
   "metadata": {
    "scrolled": true
   },
   "outputs": [],
   "source": [
    "df_tags = pd.read_csv('tags.csv')\n",
    "df_tags.info()"
   ]
  },
  {
   "cell_type": "code",
   "execution_count": null,
   "metadata": {},
   "outputs": [],
   "source": [
    "df_tags.shape"
   ]
  },
  {
   "cell_type": "code",
   "execution_count": null,
   "metadata": {},
   "outputs": [],
   "source": [
    "df_tags.head()"
   ]
  },
  {
   "cell_type": "code",
   "execution_count": null,
   "metadata": {},
   "outputs": [],
   "source": [
    "df_tags.tail()"
   ]
  },
  {
   "cell_type": "code",
   "execution_count": null,
   "metadata": {},
   "outputs": [],
   "source": [
    "df_tags.sample(5)"
   ]
  },
  {
   "cell_type": "code",
   "execution_count": null,
   "metadata": {},
   "outputs": [],
   "source": [
    "# T0 check that all \n",
    "\n",
    "mask = pd.to_numeric(df_tags['tag_name'], errors='coerce').isna()\n",
    "mask"
   ]
  },
  {
   "cell_type": "code",
   "execution_count": null,
   "metadata": {},
   "outputs": [],
   "source": [
    "mask.sum() # Out of 34252 entries , there are 34134 entries with string format, others are some random number.\n",
    "           # These numbers can not be a tag. so we will discard these values or replace with a dummy string."
   ]
  },
  {
   "cell_type": "markdown",
   "metadata": {},
   "source": [
    "## Analysis of df_tags DataFrame(2 columns) :\n",
    "    1) This dataframe provides the tag id and title of the books\n",
    "    2) There are total 34252 tags\n",
    "    3) There are 34252 actual tag titles with string format, remaining titles are in numeric format. \n",
    "    4) These remaining titles can be replace with a common tag title but it will affect the results,\n",
    "       so we can drop them.\n"
   ]
  },
  {
   "cell_type": "markdown",
   "metadata": {},
   "source": [
    "**Lets load the 'book_tags.csv' file and explore it**"
   ]
  },
  {
   "cell_type": "code",
   "execution_count": null,
   "metadata": {},
   "outputs": [],
   "source": [
    "df_book_tags = pd.read_csv('book_tags.csv')"
   ]
  },
  {
   "cell_type": "code",
   "execution_count": null,
   "metadata": {},
   "outputs": [],
   "source": [
    "df_book_tags.sample(5)"
   ]
  },
  {
   "cell_type": "code",
   "execution_count": null,
   "metadata": {},
   "outputs": [],
   "source": [
    "df_book_tags.info()"
   ]
  },
  {
   "cell_type": "code",
   "execution_count": null,
   "metadata": {
    "scrolled": false
   },
   "outputs": [],
   "source": [
    "df_book_tags.groupby('goodreads_book_id')['tag_id'].count().sort_values()\n",
    "\n",
    "# Result shows that all books has 100 tags except three books. "
   ]
  },
  {
   "cell_type": "markdown",
   "metadata": {},
   "source": [
    "We can not simply discard 'count' column. Higher number in this column shows higher popularity , which can be used in modeling for recommendation system."
   ]
  },
  {
   "cell_type": "markdown",
   "metadata": {},
   "source": [
    "Now we will check most frequently used tags"
   ]
  },
  {
   "cell_type": "code",
   "execution_count": null,
   "metadata": {},
   "outputs": [],
   "source": [
    "most_freq_tags = df_book_tags.groupby('tag_id')['count'].count().sort_values(ascending=False)"
   ]
  },
  {
   "cell_type": "code",
   "execution_count": null,
   "metadata": {},
   "outputs": [],
   "source": [
    "plt.plot(list(most_freq_tags)) # We need to convert this into log sacle for better clearity"
   ]
  },
  {
   "cell_type": "code",
   "execution_count": null,
   "metadata": {},
   "outputs": [],
   "source": [
    "plt.plot(list(most_freq_tags),color = 'g')\n",
    "plt.yscale('log')\n",
    "plt.xlabel('Tag_id')\n",
    "plt.ylabel('count of tags')\n",
    "plt.title('Frequency of tag ids')\n",
    "plt.grid(True)\n",
    "plt.show()\n"
   ]
  },
  {
   "cell_type": "code",
   "execution_count": null,
   "metadata": {},
   "outputs": [],
   "source": [
    "# Total count of each tag used \n",
    "# We are generating top 5 most frequently used tags \n",
    "\n",
    "Sum_most_freq_tags = np.cumsum(most_freq_tags).sort_values(ascending = False)\n"
   ]
  },
  {
   "cell_type": "code",
   "execution_count": null,
   "metadata": {},
   "outputs": [],
   "source": [
    "Sum_most_freq_tags.head()"
   ]
  },
  {
   "cell_type": "code",
   "execution_count": null,
   "metadata": {},
   "outputs": [],
   "source": [
    "plt.plot(list(Sum_most_freq_tags),color = 'g')\n",
    "plt.yscale('log')\n",
    "plt.xlabel('Tag_id')\n",
    "plt.ylabel('count of tags')\n",
    "plt.title('Frequency of tag ids')\n",
    "plt.grid(True)\n",
    "plt.show()\n"
   ]
  },
  {
   "cell_type": "code",
   "execution_count": null,
   "metadata": {},
   "outputs": [],
   "source": [
    "# Even after taking log-scale this graph is skewed and we are not getting much fruitful information."
   ]
  },
  {
   "cell_type": "code",
   "execution_count": null,
   "metadata": {},
   "outputs": [],
   "source": [
    "# Lets focus on chunks of tags id . lets say first 200 tag ids\n",
    "\n",
    "sum_list = Sum_most_freq_tags[0:150]\n",
    "sum_list"
   ]
  },
  {
   "cell_type": "code",
   "execution_count": null,
   "metadata": {},
   "outputs": [],
   "source": [
    "plt.plot(list(sum_list),color = 'r')\n",
    "plt.yscale('log')\n",
    "plt.xlabel('Tag_id')\n",
    "plt.ylabel('count of tags')\n",
    "plt.title('Frequency of tag ids')\n",
    "plt.grid(True)\n",
    "plt.show()\n"
   ]
  },
  {
   "cell_type": "code",
   "execution_count": null,
   "metadata": {},
   "outputs": [],
   "source": [
    "popular_tags=df_tags[df_tags['tag_id'].isin(list(most_freq_tags.index[:200]))]"
   ]
  },
  {
   "cell_type": "code",
   "execution_count": null,
   "metadata": {},
   "outputs": [],
   "source": [
    "popular_tags.head(20)"
   ]
  },
  {
   "cell_type": "markdown",
   "metadata": {},
   "source": [
    "Tags are going to play a crucial role in recommendation system . In the above query we have gathered top 200 most frequently used tags"
   ]
  },
  {
   "cell_type": "markdown",
   "metadata": {},
   "source": [
    "## Analysis of df_book_tags DataFrame(3 columns) :\n",
    "        \n",
    "        1) Dataframe contains three columns : goodreads_book_id, tag_id, count\n",
    "        2) Every book is mapped with multiple tags\n",
    "        3) Top 200, most frequently used tags_id and Title fetched from the data \n",
    "        4) Its been observed that many tags are same but written in different ways. We can merge these tags together\n",
    "        5) All books are tagged with 100 different tags except 3 books. \n"
   ]
  },
  {
   "cell_type": "code",
   "execution_count": null,
   "metadata": {},
   "outputs": [],
   "source": []
  },
  {
   "cell_type": "markdown",
   "metadata": {},
   "source": [
    "Cleaning Process: "
   ]
  },
  {
   "cell_type": "markdown",
   "metadata": {},
   "source": [
    "**Clean:**\n",
    "\n",
    "**Define**\n",
    "\n",
    "**df_books:**\n",
    "\n",
    "'best_book_id': Drop this column.\n",
    "'work_id': Drop this column.\n",
    "'books_count': Drop this column.\n",
    "'isbn': Drop this column.\n",
    "'isbn13': Drop this column.\n",
    "'authors': *Keep first element (author), and drop the rest.\"\n",
    "'original_title': Drop this column.\n",
    "'language_code': *Change \"en-US\", \"en-GB\", \"en-CA\" to \"eng\".\n",
    "'average_rating': Drop this column.\n",
    "'ratings_count': Drop this column.\n",
    "'work_ratings_count': Drop this column.\n",
    "'work_text_reviews_count': Drop this column.\n",
    "'ratings_1' to 'ratings_5: Drop these columns.\n",
    "'small_image_url': Drop this column.\n",
    "\n",
    "**df_book_tags:**\n",
    "\n",
    "'count': Drop this column.\n",
    "\n",
    "\n",
    "**df_book_tags and df_tags:**\n",
    "Old tag_id to be changed to new_tag_id.\n",
    "{1540 : 1 , 1542 : 1 , 1642 : 2 , 1659 : 2 , 1691 : 3 , 2104 : 4 , 2277 : 5 , 31656 : 5 , 4605 : 6 , 4949 : 7 , 4959 : 7 , 4985 : 7 , 5051 : 7 , 5751 : 8 , 6828 : 9 , 6857 : 9 , 6888 : 9 , 6895 : 9 , 6953 : 9 , 6960 : 9 , 7404 : 10 , 7457 : 10 , 7725 : 11 , 12680 : 11 , 15048 : 11 , 15067 : 11 , 7852 : 12 , 8055 : 13 , 8067 : 13 , 8076 : 13 , 20288 : 13 , 8517 : 14 , 8527 : 14 , 8533 : 14 , 9336 : 14 , 9886 : 15 , 10641 : 16 , 10644 : 16 , 11221 : 17 , 11305 : 18 , 31617 : 18 , 12600 : 19 , 14467 : 20 , 14487 : 20 , 14552 : 21 , 14821 : 22 , 16799 : 23 , 17124 : 23 , 17129 : 23 , 18318 : 24 , 18326 : 24 , 18367 : 24 , 18640 : 25 , 18886 : 26 , 20926 : 27 , 20939 : 27 , 20957 : 27 , 20989 : 27 , 20994 : 27 , 21689 : 28 , 21773 : 28 , 22973 : 29 , 29011 : 29 , 23471 : 30 , 25630 : 31 , 26138 : 32 , 14370 : 33 , 26735 : 33 , 11370 : 34 , 11376 : 34 , 26771 : 34 , 26785 : 34 , 26816 : 34 , 26837 : 34 , 26842 : 34 , 26894 : 34 , 26897 : 34 , 29076 : 35 , 29083 : 35 , 30358 : 35 , 30386 : 35 , 29452 : 36 , 32996 : 36 , 33009 : 36 , 33012 : 36 , 33114 : 36 , 33124 : 36 , 33165 : 36 , 32130 : 37 , 32686 : 38}\n",
    "\n",
    "\n",
    "If tag is other than those listed, then tag_id=99.\n",
    "\n",
    "new_tag_id tag name to be changed to new_tag_name:\n",
    "{1 : action , 2 : adult , 3 : adventure , 4 : all-time-favorites , 5 : american , 6 : biography , 7 : bookclub , 8 : british , 9 : children , 10 : classics , 11 : comedy , 12 : coming-of-age , 13 : contemporary , 14 : crime , 15 : drama , 16 : english , 17 : family , 18 : fantasy , 19 : friendship , 20 : historical , 21 : history , 22 : horror , 23 : kids , 24 : literature , 25 : love , 26 : magic , 27 : mystery , 28 : non-fiction , 29 : paranormal , 30 : philosophy , 31 : relationships , 32 : romance , 33 : school , 34 : sci-fi , 35 : suspense , 36 : teen , 37 : war , 38 : women , 99 : z_other }\n",
    "\n",
    "**df_book_tags and df_tags:**\n",
    "\n",
    "Merge these 2 dataframes.\n",
    "\n",
    "Drop duplicate rows where the same tag appears more than once per book.\n",
    "\n",
    "Drop rows with tag_id = 99 (other)\n",
    "\n"
   ]
  },
  {
   "cell_type": "code",
   "execution_count": null,
   "metadata": {},
   "outputs": [],
   "source": []
  },
  {
   "cell_type": "code",
   "execution_count": null,
   "metadata": {},
   "outputs": [],
   "source": [
    "df_books.head(1)\n"
   ]
  },
  {
   "cell_type": "code",
   "execution_count": null,
   "metadata": {},
   "outputs": [],
   "source": [
    "df_books.columns\n"
   ]
  },
  {
   "cell_type": "code",
   "execution_count": null,
   "metadata": {},
   "outputs": [],
   "source": [
    "# df_books cleaning:\n",
    "\n",
    "# Drop columns that will not be useful for book recommendations:\n",
    "df_books=df_books.drop(labels=['best_book_id','work_id','books_count','isbn','isbn13','original_title',\n",
    "                               'average_rating','ratings_count','work_ratings_count','work_text_reviews_count',\n",
    "                               'ratings_1','ratings_2','ratings_3','ratings_4','ratings_5','small_image_url'],axis=1)"
   ]
  },
  {
   "cell_type": "code",
   "execution_count": null,
   "metadata": {},
   "outputs": [],
   "source": [
    "# df_books cleaning:\n",
    "\n",
    "# Standardise language code for english:\n",
    "df_books['language_code'].replace({'en-US':'eng','en-GB':'eng','en-CA':'eng'}, inplace=True)"
   ]
  },
  {
   "cell_type": "code",
   "execution_count": null,
   "metadata": {},
   "outputs": [],
   "source": [
    "# df_books cleaning:\n",
    "\n",
    "# Drop secondary names under authors.\n",
    "df_books['authors']=df_books['authors'].str.split(',',expand=True)[0]"
   ]
  },
  {
   "cell_type": "code",
   "execution_count": null,
   "metadata": {},
   "outputs": [],
   "source": [
    "# df_book_tags cleaning:\n",
    "\n",
    "# Drop columns that will not be useful for book recommendations:\n",
    "df_book_tags=df_book_tags.drop(labels=['count'],axis=1)"
   ]
  },
  {
   "cell_type": "code",
   "execution_count": null,
   "metadata": {},
   "outputs": [],
   "source": [
    "# df_book_tags and df_tags:\n",
    "\n",
    "new_tag_id_list=[1,2,3,4,5,6,7,8,9,10,11,12,13,14,15,16,17,18,19,20,\\\n",
    "                 21,22,23,24,25,26,27,28,29,30,31,32,33,34,35,36,37,38]\n",
    "\n",
    "new_tag_name_dic={1:'action', 2:'adult', 3:'adventure', 4:'all-time-favorites', 5:'american', 6:'biography', \n",
    "                  7:'bookclub', 8:'british', 9:'children', 10:'classics', 11:'comedy', 12:'coming-of-age', \n",
    "                  13:'contemporary', 14:'crime', 15:'drama', 16:'english', 17:'family', 18:'fantasy', \n",
    "                  19:'friendship', 20:'historical', 21:'history', 22:'horror', 23:'kids', 24:'literature', 25:'love', \n",
    "                  26:'magic', 27:'mystery', 28:'non-fiction', 29:'paranormal', 30:'philosophy', 31:'relationships', \n",
    "                  32:'romance', 33:'school', 34:'sci-fi', 35:'suspense', 36:'teen', 37:'war', 38:'women', 99:'z_other'}\n",
    "\n",
    "new_tag_id_dic={1540:1, 1542:1, 1642:2, 1659:2, 1691:3, 2104:4, 2277:5, 31656:5, 4605:6, 4949:7, 4959:7, 4985:7, \n",
    "                5051:7, 5751:8, 6828:9, 6857:9, 6888:9, 6895:9, 6953:9, 6960:9, 7404:10, 7457:10, 7725:11, 12680:11, \n",
    "                15048:11, 15067:11, 7852:12, 8055:13, 8067:13, 8076:13, 20288:13, 8517:14, 8527:14, 8533:14, 9336:14, \n",
    "                9886:15, 10641:16, 10644:16, 11221:17, 11305:18, 31617:18, 12600:19, 14467:20, 14487:20, 14552:21, \n",
    "                14821:22, 16799:23, 17124:23, 17129:23, 18318:24, 18326:24, 18367:24, 18640:25, 18886:26, 20926:27, \n",
    "                20939:27, 20957:27, 20989:27,  20994:27, 21689:28, 21773:28, 22973:29, 29011:29, 23471:30, 25630:31, \n",
    "                26138:32, 14370:33, 26735:33, 11370:34, 11376:34, 26771:34, 26785:34, 26816:34, 26837:34, 26842:34, \n",
    "                26894:34, 26897:34, 29076:35, 29083:35, 30358:35, 30386:35, 29452:36, 32996:36, 33009:36, 33012:36, \n",
    "                33114:36, 33124:36, 33165:36, 32130:37, 32686:38}\n",
    "\n",
    "df_book_tags['new_tag_id']=df_book_tags['tag_id'].replace(new_tag_id_dic)\n",
    "\n",
    "#If tag is other than those listed, then tag_id=99. \n",
    "df_book_tags.loc[~df_book_tags['new_tag_id'].isin(new_tag_id_list), 'new_tag_id']=99\n",
    "\n",
    "#create a column for tag ids:\n",
    "df_tags['new_tag_id']=df_tags['tag_id'].replace(new_tag_id_dic)  \n",
    "\n",
    "#create a column for tag ids. This will be replaced by dictionary values with the tag name.\n",
    "df_book_tags['new_tag_name']=df_book_tags['new_tag_id']\n",
    "df_book_tags=df_book_tags.replace({'new_tag_name': new_tag_name_dic})\n",
    "\n",
    "#drop tags that are duplicated across a same book_id\n",
    "df_book_tags = df_book_tags.sort_values('goodreads_book_id', ascending=True) #sort according to book_id\n",
    "\n",
    "#drop the duplicate tag_ids when duplicated within a book.\n",
    "df_book_tags = df_book_tags.drop_duplicates(subset=['new_tag_id','goodreads_book_id'], keep='first')\n",
    "\n",
    "#drop the rows containing 99 (eg. other) as all books have been tagged at least once as other. This tag does not\n",
    "#provide additional information\n",
    "df_book_tags = df_book_tags[df_book_tags['new_tag_id'] != 99] \n",
    "\n",
    "#drop old tag_id column.\n",
    "df_book_tags = df_book_tags.drop('tag_id', 1)\n",
    "\n",
    "#rename the columns to be consistent with the other dataframes.\n",
    "df_book_tags = df_book_tags.rename(columns={'new_tag_id':'tag_id','new_tag_name': 'tag_name','goodreads_book_id':'book_id'})\n",
    "\n",
    "tag_count=df_book_tags.groupby('tag_name')['book_id'].count().sort_values(ascending=False)"
   ]
  },
  {
   "cell_type": "code",
   "execution_count": null,
   "metadata": {},
   "outputs": [],
   "source": [
    "df_book_tags.head()\n"
   ]
  },
  {
   "cell_type": "markdown",
   "metadata": {},
   "source": [
    "### Data after Cleaning"
   ]
  },
  {
   "cell_type": "code",
   "execution_count": null,
   "metadata": {},
   "outputs": [],
   "source": [
    "df_books.head()\n"
   ]
  },
  {
   "cell_type": "code",
   "execution_count": null,
   "metadata": {},
   "outputs": [],
   "source": [
    "df_books.shape\n"
   ]
  },
  {
   "cell_type": "code",
   "execution_count": null,
   "metadata": {},
   "outputs": [],
   "source": [
    "df_ratings.head()\n"
   ]
  },
  {
   "cell_type": "code",
   "execution_count": null,
   "metadata": {},
   "outputs": [],
   "source": [
    "df_ratings.shape\n"
   ]
  },
  {
   "cell_type": "code",
   "execution_count": null,
   "metadata": {},
   "outputs": [],
   "source": [
    "df_book_tags.head()\n"
   ]
  },
  {
   "cell_type": "code",
   "execution_count": null,
   "metadata": {},
   "outputs": [],
   "source": [
    "df_book_tags.shape\n"
   ]
  },
  {
   "cell_type": "code",
   "execution_count": null,
   "metadata": {},
   "outputs": [],
   "source": [
    "plt.figure(figsize=(20,8))\n",
    "sns.barplot(x=list(tag_count.index), y=tag_count,order=list(tag_count.index),color=\"c\")\n",
    "plt.xticks(rotation=90)\n",
    "\n",
    "plt.savefig('genres.png');"
   ]
  },
  {
   "cell_type": "code",
   "execution_count": null,
   "metadata": {},
   "outputs": [],
   "source": [
    "tag_count[1:]\n"
   ]
  },
  {
   "cell_type": "code",
   "execution_count": null,
   "metadata": {},
   "outputs": [],
   "source": [
    "plt.hist(tag_count)\n"
   ]
  },
  {
   "cell_type": "code",
   "execution_count": null,
   "metadata": {},
   "outputs": [],
   "source": [
    "df_tags.head()\n"
   ]
  },
  {
   "cell_type": "code",
   "execution_count": null,
   "metadata": {},
   "outputs": [],
   "source": [
    "df_ratings.shape\n"
   ]
  },
  {
   "cell_type": "code",
   "execution_count": null,
   "metadata": {},
   "outputs": [],
   "source": [
    "df_ratings.head()\n"
   ]
  },
  {
   "cell_type": "code",
   "execution_count": null,
   "metadata": {},
   "outputs": [],
   "source": [
    "#Save Clean datasets into csv files\n",
    "df_books.to_csv(r'df_books.csv',index=False)\n",
    "df_ratings.to_csv(r'df_ratings.csv',index=False)\n",
    "df_book_tags.to_csv(r'df_tags.csv',index=False)"
   ]
  },
  {
   "cell_type": "code",
   "execution_count": null,
   "metadata": {},
   "outputs": [],
   "source": []
  }
 ],
 "metadata": {
  "kernelspec": {
   "display_name": "Python 3",
   "language": "python",
   "name": "python3"
  },
  "language_info": {
   "codemirror_mode": {
    "name": "ipython",
    "version": 3
   },
   "file_extension": ".py",
   "mimetype": "text/x-python",
   "name": "python",
   "nbconvert_exporter": "python",
   "pygments_lexer": "ipython3",
   "version": "3.7.4"
  }
 },
 "nbformat": 4,
 "nbformat_minor": 2
}
