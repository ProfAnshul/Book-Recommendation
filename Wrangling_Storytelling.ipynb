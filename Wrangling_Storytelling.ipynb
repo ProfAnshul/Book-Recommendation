{
 "cells": [
  {
   "cell_type": "markdown",
   "metadata": {},
   "source": [
    "**Total five csv file are going to be used in this notebook:**\n",
    "\n",
    "    1) books.csv\n",
    "    2) ratings.csv\n",
    "    3) tags.csv\n",
    "    4) to_read.csv\n",
    "    5) book_tags.csv"
   ]
  },
  {
   "cell_type": "code",
   "execution_count": 1,
   "metadata": {},
   "outputs": [],
   "source": [
    "import pandas as pd\n",
    "import matplotlib.pyplot as plt\n",
    "import numpy as np\n",
    "import seaborn as sns"
   ]
  },
  {
   "cell_type": "code",
   "execution_count": 2,
   "metadata": {},
   "outputs": [
    {
     "data": {
      "text/html": [
       "<style>body {\n",
       "    margin: 0;\n",
       "    font-family: Helvetica;\n",
       "}\n",
       "table.dataframe {\n",
       "    border-collapse: collapse;\n",
       "    border: none;\n",
       "}\n",
       "table.dataframe tr {\n",
       "    border: none;\n",
       "}\n",
       "table.dataframe td, table.dataframe th {\n",
       "    margin: 0;\n",
       "    border: 1px solid white;\n",
       "    padding-left: 0.25em;\n",
       "    padding-right: 0.25em;\n",
       "}\n",
       "table.dataframe th:not(:empty) {\n",
       "    background-color: #fec;\n",
       "    text-align: left;\n",
       "    font-weight: normal;\n",
       "}\n",
       "table.dataframe tr:nth-child(2) th:empty {\n",
       "    border-left: none;\n",
       "    border-right: 1px dashed #888;\n",
       "}\n",
       "table.dataframe td {\n",
       "    border: 2px solid #ccf;\n",
       "    background-color: #f4f4ff;\n",
       "}\n",
       "h3 {\n",
       "    color: white;\n",
       "    background-color: black;\n",
       "    padding: 0.5em;\n",
       "}\n",
       "</style>"
      ],
      "text/plain": [
       "<IPython.core.display.HTML object>"
      ]
     },
     "execution_count": 2,
     "metadata": {},
     "output_type": "execute_result"
    }
   ],
   "source": [
    "# For better visuals of Dataframes in Jupyter Notebook\n",
    "\n",
    "from IPython.core.display import HTML\n",
    "css = open('style-table.css').read() + open('style-notebook.css').read()\n",
    "HTML('<style>{}</style>'.format(css))"
   ]
  },
  {
   "cell_type": "markdown",
   "metadata": {},
   "source": [
    "**Loading books.csv file here**"
   ]
  },
  {
   "cell_type": "code",
   "execution_count": 3,
   "metadata": {},
   "outputs": [],
   "source": [
    "df_books = pd.read_csv('books.csv')"
   ]
  },
  {
   "cell_type": "code",
   "execution_count": 4,
   "metadata": {
    "scrolled": false
   },
   "outputs": [
    {
     "data": {
      "text/html": [
       "<div>\n",
       "<style scoped>\n",
       "    .dataframe tbody tr th:only-of-type {\n",
       "        vertical-align: middle;\n",
       "    }\n",
       "\n",
       "    .dataframe tbody tr th {\n",
       "        vertical-align: top;\n",
       "    }\n",
       "\n",
       "    .dataframe thead th {\n",
       "        text-align: right;\n",
       "    }\n",
       "</style>\n",
       "<table border=\"1\" class=\"dataframe\">\n",
       "  <thead>\n",
       "    <tr style=\"text-align: right;\">\n",
       "      <th></th>\n",
       "      <th>book_id</th>\n",
       "      <th>goodreads_book_id</th>\n",
       "      <th>best_book_id</th>\n",
       "      <th>work_id</th>\n",
       "      <th>books_count</th>\n",
       "      <th>isbn</th>\n",
       "      <th>isbn13</th>\n",
       "      <th>authors</th>\n",
       "      <th>original_publication_year</th>\n",
       "      <th>original_title</th>\n",
       "      <th>...</th>\n",
       "      <th>ratings_count</th>\n",
       "      <th>work_ratings_count</th>\n",
       "      <th>work_text_reviews_count</th>\n",
       "      <th>ratings_1</th>\n",
       "      <th>ratings_2</th>\n",
       "      <th>ratings_3</th>\n",
       "      <th>ratings_4</th>\n",
       "      <th>ratings_5</th>\n",
       "      <th>image_url</th>\n",
       "      <th>small_image_url</th>\n",
       "    </tr>\n",
       "  </thead>\n",
       "  <tbody>\n",
       "    <tr>\n",
       "      <td>0</td>\n",
       "      <td>1</td>\n",
       "      <td>2767052</td>\n",
       "      <td>2767052</td>\n",
       "      <td>2792775</td>\n",
       "      <td>272</td>\n",
       "      <td>439023483</td>\n",
       "      <td>9.780439e+12</td>\n",
       "      <td>Suzanne Collins</td>\n",
       "      <td>2008.0</td>\n",
       "      <td>The Hunger Games</td>\n",
       "      <td>...</td>\n",
       "      <td>4780653</td>\n",
       "      <td>4942365</td>\n",
       "      <td>155254</td>\n",
       "      <td>66715</td>\n",
       "      <td>127936</td>\n",
       "      <td>560092</td>\n",
       "      <td>1481305</td>\n",
       "      <td>2706317</td>\n",
       "      <td>https://images.gr-assets.com/books/1447303603m...</td>\n",
       "      <td>https://images.gr-assets.com/books/1447303603s...</td>\n",
       "    </tr>\n",
       "    <tr>\n",
       "      <td>1</td>\n",
       "      <td>2</td>\n",
       "      <td>3</td>\n",
       "      <td>3</td>\n",
       "      <td>4640799</td>\n",
       "      <td>491</td>\n",
       "      <td>439554934</td>\n",
       "      <td>9.780440e+12</td>\n",
       "      <td>J.K. Rowling, Mary GrandPré</td>\n",
       "      <td>1997.0</td>\n",
       "      <td>Harry Potter and the Philosopher's Stone</td>\n",
       "      <td>...</td>\n",
       "      <td>4602479</td>\n",
       "      <td>4800065</td>\n",
       "      <td>75867</td>\n",
       "      <td>75504</td>\n",
       "      <td>101676</td>\n",
       "      <td>455024</td>\n",
       "      <td>1156318</td>\n",
       "      <td>3011543</td>\n",
       "      <td>https://images.gr-assets.com/books/1474154022m...</td>\n",
       "      <td>https://images.gr-assets.com/books/1474154022s...</td>\n",
       "    </tr>\n",
       "    <tr>\n",
       "      <td>2</td>\n",
       "      <td>3</td>\n",
       "      <td>41865</td>\n",
       "      <td>41865</td>\n",
       "      <td>3212258</td>\n",
       "      <td>226</td>\n",
       "      <td>316015849</td>\n",
       "      <td>9.780316e+12</td>\n",
       "      <td>Stephenie Meyer</td>\n",
       "      <td>2005.0</td>\n",
       "      <td>Twilight</td>\n",
       "      <td>...</td>\n",
       "      <td>3866839</td>\n",
       "      <td>3916824</td>\n",
       "      <td>95009</td>\n",
       "      <td>456191</td>\n",
       "      <td>436802</td>\n",
       "      <td>793319</td>\n",
       "      <td>875073</td>\n",
       "      <td>1355439</td>\n",
       "      <td>https://images.gr-assets.com/books/1361039443m...</td>\n",
       "      <td>https://images.gr-assets.com/books/1361039443s...</td>\n",
       "    </tr>\n",
       "  </tbody>\n",
       "</table>\n",
       "<p>3 rows × 23 columns</p>\n",
       "</div>"
      ],
      "text/plain": [
       "   book_id  goodreads_book_id  best_book_id  work_id  books_count       isbn  \\\n",
       "0        1            2767052       2767052  2792775          272  439023483   \n",
       "1        2                  3             3  4640799          491  439554934   \n",
       "2        3              41865         41865  3212258          226  316015849   \n",
       "\n",
       "         isbn13                      authors  original_publication_year  \\\n",
       "0  9.780439e+12              Suzanne Collins                     2008.0   \n",
       "1  9.780440e+12  J.K. Rowling, Mary GrandPré                     1997.0   \n",
       "2  9.780316e+12              Stephenie Meyer                     2005.0   \n",
       "\n",
       "                             original_title  ... ratings_count  \\\n",
       "0                          The Hunger Games  ...       4780653   \n",
       "1  Harry Potter and the Philosopher's Stone  ...       4602479   \n",
       "2                                  Twilight  ...       3866839   \n",
       "\n",
       "  work_ratings_count  work_text_reviews_count  ratings_1  ratings_2  \\\n",
       "0            4942365                   155254      66715     127936   \n",
       "1            4800065                    75867      75504     101676   \n",
       "2            3916824                    95009     456191     436802   \n",
       "\n",
       "   ratings_3  ratings_4  ratings_5  \\\n",
       "0     560092    1481305    2706317   \n",
       "1     455024    1156318    3011543   \n",
       "2     793319     875073    1355439   \n",
       "\n",
       "                                           image_url  \\\n",
       "0  https://images.gr-assets.com/books/1447303603m...   \n",
       "1  https://images.gr-assets.com/books/1474154022m...   \n",
       "2  https://images.gr-assets.com/books/1361039443m...   \n",
       "\n",
       "                                     small_image_url  \n",
       "0  https://images.gr-assets.com/books/1447303603s...  \n",
       "1  https://images.gr-assets.com/books/1474154022s...  \n",
       "2  https://images.gr-assets.com/books/1361039443s...  \n",
       "\n",
       "[3 rows x 23 columns]"
      ]
     },
     "execution_count": 4,
     "metadata": {},
     "output_type": "execute_result"
    }
   ],
   "source": [
    "df_books.head(3)"
   ]
  },
  {
   "cell_type": "code",
   "execution_count": 5,
   "metadata": {},
   "outputs": [],
   "source": [
    "df_book_tags = pd.read_csv('book_tags.csv')\n",
    "#df_book_tags.head()"
   ]
  },
  {
   "cell_type": "code",
   "execution_count": 6,
   "metadata": {},
   "outputs": [
    {
     "data": {
      "text/plain": [
       "Index(['goodreads_book_id', 'tag_id', 'count'], dtype='object')"
      ]
     },
     "execution_count": 6,
     "metadata": {},
     "output_type": "execute_result"
    }
   ],
   "source": [
    "df_book_tags.columns\n"
   ]
  },
  {
   "cell_type": "code",
   "execution_count": 7,
   "metadata": {},
   "outputs": [],
   "source": [
    "df_tags = pd.read_csv('tags.csv')\n",
    "#df_tags.head()"
   ]
  },
  {
   "cell_type": "code",
   "execution_count": 8,
   "metadata": {},
   "outputs": [
    {
     "data": {
      "text/plain": [
       "Index(['tag_id', 'tag_name'], dtype='object')"
      ]
     },
     "execution_count": 8,
     "metadata": {},
     "output_type": "execute_result"
    }
   ],
   "source": [
    "df_tags.columns"
   ]
  },
  {
   "cell_type": "code",
   "execution_count": 9,
   "metadata": {
    "scrolled": false
   },
   "outputs": [
    {
     "data": {
      "text/html": [
       "<div>\n",
       "<style scoped>\n",
       "    .dataframe tbody tr th:only-of-type {\n",
       "        vertical-align: middle;\n",
       "    }\n",
       "\n",
       "    .dataframe tbody tr th {\n",
       "        vertical-align: top;\n",
       "    }\n",
       "\n",
       "    .dataframe thead th {\n",
       "        text-align: right;\n",
       "    }\n",
       "</style>\n",
       "<table border=\"1\" class=\"dataframe\">\n",
       "  <thead>\n",
       "    <tr style=\"text-align: right;\">\n",
       "      <th></th>\n",
       "      <th>goodreads_book_id</th>\n",
       "      <th>tag_id</th>\n",
       "      <th>count</th>\n",
       "      <th>tag_name</th>\n",
       "    </tr>\n",
       "  </thead>\n",
       "  <tbody>\n",
       "    <tr>\n",
       "      <td>0</td>\n",
       "      <td>1</td>\n",
       "      <td>30574</td>\n",
       "      <td>167697</td>\n",
       "      <td>to-read</td>\n",
       "    </tr>\n",
       "    <tr>\n",
       "      <td>1</td>\n",
       "      <td>2</td>\n",
       "      <td>30574</td>\n",
       "      <td>24549</td>\n",
       "      <td>to-read</td>\n",
       "    </tr>\n",
       "    <tr>\n",
       "      <td>2</td>\n",
       "      <td>3</td>\n",
       "      <td>30574</td>\n",
       "      <td>496107</td>\n",
       "      <td>to-read</td>\n",
       "    </tr>\n",
       "    <tr>\n",
       "      <td>3</td>\n",
       "      <td>5</td>\n",
       "      <td>30574</td>\n",
       "      <td>11909</td>\n",
       "      <td>to-read</td>\n",
       "    </tr>\n",
       "    <tr>\n",
       "      <td>4</td>\n",
       "      <td>6</td>\n",
       "      <td>30574</td>\n",
       "      <td>298</td>\n",
       "      <td>to-read</td>\n",
       "    </tr>\n",
       "  </tbody>\n",
       "</table>\n",
       "</div>"
      ],
      "text/plain": [
       "   goodreads_book_id  tag_id   count tag_name\n",
       "0                  1   30574  167697  to-read\n",
       "1                  2   30574   24549  to-read\n",
       "2                  3   30574  496107  to-read\n",
       "3                  5   30574   11909  to-read\n",
       "4                  6   30574     298  to-read"
      ]
     },
     "execution_count": 9,
     "metadata": {},
     "output_type": "execute_result"
    }
   ],
   "source": [
    "tag_details = pd.merge(df_book_tags, df_tags, on = 'tag_id')\n",
    "tag_details.head()"
   ]
  },
  {
   "cell_type": "code",
   "execution_count": 10,
   "metadata": {},
   "outputs": [
    {
     "data": {
      "text/html": [
       "<div>\n",
       "<style scoped>\n",
       "    .dataframe tbody tr th:only-of-type {\n",
       "        vertical-align: middle;\n",
       "    }\n",
       "\n",
       "    .dataframe tbody tr th {\n",
       "        vertical-align: top;\n",
       "    }\n",
       "\n",
       "    .dataframe thead th {\n",
       "        text-align: right;\n",
       "    }\n",
       "</style>\n",
       "<table border=\"1\" class=\"dataframe\">\n",
       "  <thead>\n",
       "    <tr style=\"text-align: right;\">\n",
       "      <th></th>\n",
       "      <th>goodreads_book_id</th>\n",
       "      <th>tag_id</th>\n",
       "      <th>count</th>\n",
       "      <th>tag_name</th>\n",
       "    </tr>\n",
       "  </thead>\n",
       "  <tbody>\n",
       "    <tr>\n",
       "      <td>0</td>\n",
       "      <td>1</td>\n",
       "      <td>30574</td>\n",
       "      <td>167697</td>\n",
       "      <td>to-read</td>\n",
       "    </tr>\n",
       "    <tr>\n",
       "      <td>258362</td>\n",
       "      <td>1</td>\n",
       "      <td>33165</td>\n",
       "      <td>338</td>\n",
       "      <td>youth</td>\n",
       "    </tr>\n",
       "    <tr>\n",
       "      <td>250046</td>\n",
       "      <td>1</td>\n",
       "      <td>17213</td>\n",
       "      <td>347</td>\n",
       "      <td>kindle</td>\n",
       "    </tr>\n",
       "    <tr>\n",
       "      <td>246919</td>\n",
       "      <td>1</td>\n",
       "      <td>27535</td>\n",
       "      <td>348</td>\n",
       "      <td>shelfari-favorites</td>\n",
       "    </tr>\n",
       "    <tr>\n",
       "      <td>245888</td>\n",
       "      <td>1</td>\n",
       "      <td>16799</td>\n",
       "      <td>351</td>\n",
       "      <td>juvenile</td>\n",
       "    </tr>\n",
       "    <tr>\n",
       "      <td>245375</td>\n",
       "      <td>1</td>\n",
       "      <td>18851</td>\n",
       "      <td>354</td>\n",
       "      <td>made-me-cry</td>\n",
       "    </tr>\n",
       "    <tr>\n",
       "      <td>240136</td>\n",
       "      <td>1</td>\n",
       "      <td>25151</td>\n",
       "      <td>364</td>\n",
       "      <td>read-in-2015</td>\n",
       "    </tr>\n",
       "  </tbody>\n",
       "</table>\n",
       "</div>"
      ],
      "text/plain": [
       "        goodreads_book_id  tag_id   count            tag_name\n",
       "0                       1   30574  167697             to-read\n",
       "258362                  1   33165     338               youth\n",
       "250046                  1   17213     347              kindle\n",
       "246919                  1   27535     348  shelfari-favorites\n",
       "245888                  1   16799     351            juvenile\n",
       "245375                  1   18851     354         made-me-cry\n",
       "240136                  1   25151     364        read-in-2015"
      ]
     },
     "execution_count": 10,
     "metadata": {},
     "output_type": "execute_result"
    }
   ],
   "source": [
    "tag_details.sort_values('goodreads_book_id').head(7)"
   ]
  },
  {
   "cell_type": "markdown",
   "metadata": {},
   "source": [
    "**Before analysing the data , there are few basic details we should always learn abouth the data. I am going to use few commands here to get the basic details.**"
   ]
  },
  {
   "cell_type": "code",
   "execution_count": 11,
   "metadata": {},
   "outputs": [
    {
     "data": {
      "text/plain": [
       "(10000, 23)"
      ]
     },
     "execution_count": 11,
     "metadata": {},
     "output_type": "execute_result"
    }
   ],
   "source": [
    "df_books.shape    \n",
    "\n",
    "# There are 10000 rows and 23 columns"
   ]
  },
  {
   "cell_type": "code",
   "execution_count": 12,
   "metadata": {},
   "outputs": [
    {
     "data": {
      "text/plain": [
       "4664"
      ]
     },
     "execution_count": 12,
     "metadata": {},
     "output_type": "execute_result"
    }
   ],
   "source": [
    "df_books.authors.nunique()  \n",
    "\n",
    "# There are only 4664 unique authors out of 10000 entries"
   ]
  },
  {
   "cell_type": "code",
   "execution_count": 13,
   "metadata": {
    "scrolled": false
   },
   "outputs": [
    {
     "data": {
      "text/plain": [
       "Stephen King             60\n",
       "Nora Roberts             59\n",
       "Dean Koontz              47\n",
       "Terry Pratchett          42\n",
       "Agatha Christie          39\n",
       "                         ..\n",
       "Charlie Jane Anders       1\n",
       "Bryn Greenwood            1\n",
       "Tom Rath                  1\n",
       "Harriet Beecher Stowe     1\n",
       "Charlie LeDuff            1\n",
       "Name: authors, Length: 4664, dtype: int64"
      ]
     },
     "execution_count": 13,
     "metadata": {},
     "output_type": "execute_result"
    }
   ],
   "source": [
    "df_books.authors.value_counts()  \n",
    "\n",
    "# Frequency of book written by individual author"
   ]
  },
  {
   "cell_type": "code",
   "execution_count": 14,
   "metadata": {
    "scrolled": true
   },
   "outputs": [
    {
     "data": {
      "image/png": "[encoded data removed]",
      "text/plain": [
       "<Figure size 648x288 with 1 Axes>"
      ]
     },
     "metadata": {
      "needs_background": "light"
     },
     "output_type": "display_data"
    }
   ],
   "source": [
    "# Let's look at the top 10 rated books\n",
    "top10Books = df_books.nlargest(10, ['ratings_count']).set_index('title')['ratings_count']\n",
    "plot_dims = (9, 4)\n",
    "fig, ax = plt.subplots(figsize=plot_dims)\n",
    "sns.barplot(top10Books, top10Books.index)\n",
    "\n",
    "for i in ax.patches:\n",
    "    ax.text(i.get_width()+.3, i.get_y()+0.5, str(round(i.get_width())), fontsize = 12, color = 'k')\n",
    "    \n",
    "plt.show()"
   ]
  },
  {
   "cell_type": "code",
   "execution_count": 15,
   "metadata": {},
   "outputs": [
    {
     "data": {
      "text/html": [
       "<div>\n",
       "<style scoped>\n",
       "    .dataframe tbody tr th:only-of-type {\n",
       "        vertical-align: middle;\n",
       "    }\n",
       "\n",
       "    .dataframe tbody tr th {\n",
       "        vertical-align: top;\n",
       "    }\n",
       "\n",
       "    .dataframe thead th {\n",
       "        text-align: right;\n",
       "    }\n",
       "</style>\n",
       "<table border=\"1\" class=\"dataframe\">\n",
       "  <thead>\n",
       "    <tr style=\"text-align: right;\">\n",
       "      <th></th>\n",
       "      <th>book_id</th>\n",
       "      <th>authors</th>\n",
       "      <th>title</th>\n",
       "      <th>average_rating</th>\n",
       "      <th>ratings_count</th>\n",
       "    </tr>\n",
       "  </thead>\n",
       "  <tbody>\n",
       "    <tr>\n",
       "      <td>3627</td>\n",
       "      <td>3628</td>\n",
       "      <td>Bill Watterson</td>\n",
       "      <td>The Complete Calvin and Hobbes</td>\n",
       "      <td>4.82</td>\n",
       "      <td>28900</td>\n",
       "    </tr>\n",
       "    <tr>\n",
       "      <td>3274</td>\n",
       "      <td>3275</td>\n",
       "      <td>J.K. Rowling, Mary GrandPré</td>\n",
       "      <td>Harry Potter Boxed Set, Books 1-5 (Harry Potte...</td>\n",
       "      <td>4.77</td>\n",
       "      <td>33220</td>\n",
       "    </tr>\n",
       "    <tr>\n",
       "      <td>861</td>\n",
       "      <td>862</td>\n",
       "      <td>Brandon Sanderson</td>\n",
       "      <td>Words of Radiance (The Stormlight Archive, #2)</td>\n",
       "      <td>4.77</td>\n",
       "      <td>73572</td>\n",
       "    </tr>\n",
       "    <tr>\n",
       "      <td>8853</td>\n",
       "      <td>8854</td>\n",
       "      <td>Francine Rivers</td>\n",
       "      <td>Mark of the Lion Trilogy</td>\n",
       "      <td>4.76</td>\n",
       "      <td>9081</td>\n",
       "    </tr>\n",
       "    <tr>\n",
       "      <td>7946</td>\n",
       "      <td>7947</td>\n",
       "      <td>Anonymous, Lane T. Dennis, Wayne A. Grudem</td>\n",
       "      <td>ESV Study Bible</td>\n",
       "      <td>4.76</td>\n",
       "      <td>8953</td>\n",
       "    </tr>\n",
       "    <tr>\n",
       "      <td>4482</td>\n",
       "      <td>4483</td>\n",
       "      <td>Bill Watterson</td>\n",
       "      <td>It's a Magical World: A Calvin and Hobbes Coll...</td>\n",
       "      <td>4.75</td>\n",
       "      <td>22351</td>\n",
       "    </tr>\n",
       "    <tr>\n",
       "      <td>6360</td>\n",
       "      <td>6361</td>\n",
       "      <td>Bill Watterson</td>\n",
       "      <td>There's Treasure Everywhere: A Calvin and Hobb...</td>\n",
       "      <td>4.74</td>\n",
       "      <td>16766</td>\n",
       "    </tr>\n",
       "    <tr>\n",
       "      <td>421</td>\n",
       "      <td>422</td>\n",
       "      <td>J.K. Rowling</td>\n",
       "      <td>Harry Potter Boxset (Harry Potter, #1-7)</td>\n",
       "      <td>4.74</td>\n",
       "      <td>190050</td>\n",
       "    </tr>\n",
       "    <tr>\n",
       "      <td>3752</td>\n",
       "      <td>3753</td>\n",
       "      <td>J.K. Rowling</td>\n",
       "      <td>Harry Potter Collection (Harry Potter, #1-6)</td>\n",
       "      <td>4.73</td>\n",
       "      <td>24618</td>\n",
       "    </tr>\n",
       "    <tr>\n",
       "      <td>6919</td>\n",
       "      <td>6920</td>\n",
       "      <td>Bill Watterson</td>\n",
       "      <td>The Indispensable Calvin and Hobbes</td>\n",
       "      <td>4.73</td>\n",
       "      <td>14597</td>\n",
       "    </tr>\n",
       "    <tr>\n",
       "      <td>6589</td>\n",
       "      <td>6590</td>\n",
       "      <td>Bill Watterson</td>\n",
       "      <td>The Authoritative Calvin and Hobbes: A Calvin ...</td>\n",
       "      <td>4.73</td>\n",
       "      <td>16087</td>\n",
       "    </tr>\n",
       "    <tr>\n",
       "      <td>9565</td>\n",
       "      <td>9566</td>\n",
       "      <td>Bill Watterson</td>\n",
       "      <td>Attack of the Deranged Mutant Killer Monster S...</td>\n",
       "      <td>4.72</td>\n",
       "      <td>9713</td>\n",
       "    </tr>\n",
       "    <tr>\n",
       "      <td>1307</td>\n",
       "      <td>1308</td>\n",
       "      <td>Sarah J. Maas</td>\n",
       "      <td>A Court of Mist and Fury (A Court of Thorns an...</td>\n",
       "      <td>4.72</td>\n",
       "      <td>108384</td>\n",
       "    </tr>\n",
       "    <tr>\n",
       "      <td>8977</td>\n",
       "      <td>8978</td>\n",
       "      <td>Bill Watterson</td>\n",
       "      <td>The Revenge of the Baby-Sat</td>\n",
       "      <td>4.71</td>\n",
       "      <td>11503</td>\n",
       "    </tr>\n",
       "    <tr>\n",
       "      <td>9075</td>\n",
       "      <td>9076</td>\n",
       "      <td>The Church of Jesus Christ of Latter-day Saints</td>\n",
       "      <td>Preach My Gospel: A Guide To Missionary Service</td>\n",
       "      <td>4.71</td>\n",
       "      <td>9891</td>\n",
       "    </tr>\n",
       "    <tr>\n",
       "      <td>7253</td>\n",
       "      <td>7254</td>\n",
       "      <td>Bill Watterson</td>\n",
       "      <td>Homicidal Psycho Jungle Cat: A Calvin and Hobb...</td>\n",
       "      <td>4.71</td>\n",
       "      <td>14113</td>\n",
       "    </tr>\n",
       "    <tr>\n",
       "      <td>5206</td>\n",
       "      <td>5207</td>\n",
       "      <td>Bill Watterson</td>\n",
       "      <td>The Days Are Just Packed: A Calvin and Hobbes ...</td>\n",
       "      <td>4.68</td>\n",
       "      <td>19143</td>\n",
       "    </tr>\n",
       "    <tr>\n",
       "      <td>5918</td>\n",
       "      <td>5919</td>\n",
       "      <td>Anonymous, Ronald A. Beers, Ronald A. Beers</td>\n",
       "      <td>Life Application Study Bible: NIV</td>\n",
       "      <td>4.67</td>\n",
       "      <td>13614</td>\n",
       "    </tr>\n",
       "    <tr>\n",
       "      <td>9140</td>\n",
       "      <td>9141</td>\n",
       "      <td>Brandon Sanderson</td>\n",
       "      <td>The Way of Kings, Part 1 (The Stormlight Archi...</td>\n",
       "      <td>4.67</td>\n",
       "      <td>9792</td>\n",
       "    </tr>\n",
       "    <tr>\n",
       "      <td>2100</td>\n",
       "      <td>2101</td>\n",
       "      <td>J.K. Rowling, Mary GrandPré</td>\n",
       "      <td>The Harry Potter Collection 1-4 (Harry Potter,...</td>\n",
       "      <td>4.66</td>\n",
       "      <td>43929</td>\n",
       "    </tr>\n",
       "  </tbody>\n",
       "</table>\n",
       "</div>"
      ],
      "text/plain": [
       "      book_id                                          authors  \\\n",
       "3627     3628                                   Bill Watterson   \n",
       "3274     3275                      J.K. Rowling, Mary GrandPré   \n",
       "861       862                                Brandon Sanderson   \n",
       "8853     8854                                  Francine Rivers   \n",
       "7946     7947       Anonymous, Lane T. Dennis, Wayne A. Grudem   \n",
       "4482     4483                                   Bill Watterson   \n",
       "6360     6361                                   Bill Watterson   \n",
       "421       422                                     J.K. Rowling   \n",
       "3752     3753                                     J.K. Rowling   \n",
       "6919     6920                                   Bill Watterson   \n",
       "6589     6590                                   Bill Watterson   \n",
       "9565     9566                                   Bill Watterson   \n",
       "1307     1308                                    Sarah J. Maas   \n",
       "8977     8978                                   Bill Watterson   \n",
       "9075     9076  The Church of Jesus Christ of Latter-day Saints   \n",
       "7253     7254                                   Bill Watterson   \n",
       "5206     5207                                   Bill Watterson   \n",
       "5918     5919      Anonymous, Ronald A. Beers, Ronald A. Beers   \n",
       "9140     9141                                Brandon Sanderson   \n",
       "2100     2101                      J.K. Rowling, Mary GrandPré   \n",
       "\n",
       "                                                  title  average_rating  \\\n",
       "3627                     The Complete Calvin and Hobbes            4.82   \n",
       "3274  Harry Potter Boxed Set, Books 1-5 (Harry Potte...            4.77   \n",
       "861      Words of Radiance (The Stormlight Archive, #2)            4.77   \n",
       "8853                           Mark of the Lion Trilogy            4.76   \n",
       "7946                                    ESV Study Bible            4.76   \n",
       "4482  It's a Magical World: A Calvin and Hobbes Coll...            4.75   \n",
       "6360  There's Treasure Everywhere: A Calvin and Hobb...            4.74   \n",
       "421            Harry Potter Boxset (Harry Potter, #1-7)            4.74   \n",
       "3752       Harry Potter Collection (Harry Potter, #1-6)            4.73   \n",
       "6919                The Indispensable Calvin and Hobbes            4.73   \n",
       "6589  The Authoritative Calvin and Hobbes: A Calvin ...            4.73   \n",
       "9565  Attack of the Deranged Mutant Killer Monster S...            4.72   \n",
       "1307  A Court of Mist and Fury (A Court of Thorns an...            4.72   \n",
       "8977                        The Revenge of the Baby-Sat            4.71   \n",
       "9075    Preach My Gospel: A Guide To Missionary Service            4.71   \n",
       "7253  Homicidal Psycho Jungle Cat: A Calvin and Hobb...            4.71   \n",
       "5206  The Days Are Just Packed: A Calvin and Hobbes ...            4.68   \n",
       "5918                  Life Application Study Bible: NIV            4.67   \n",
       "9140  The Way of Kings, Part 1 (The Stormlight Archi...            4.67   \n",
       "2100  The Harry Potter Collection 1-4 (Harry Potter,...            4.66   \n",
       "\n",
       "      ratings_count  \n",
       "3627          28900  \n",
       "3274          33220  \n",
       "861           73572  \n",
       "8853           9081  \n",
       "7946           8953  \n",
       "4482          22351  \n",
       "6360          16766  \n",
       "421          190050  \n",
       "3752          24618  \n",
       "6919          14597  \n",
       "6589          16087  \n",
       "9565           9713  \n",
       "1307         108384  \n",
       "8977          11503  \n",
       "9075           9891  \n",
       "7253          14113  \n",
       "5206          19143  \n",
       "5918          13614  \n",
       "9140           9792  \n",
       "2100          43929  "
      ]
     },
     "execution_count": 15,
     "metadata": {},
     "output_type": "execute_result"
    }
   ],
   "source": [
    "df_books[['book_id', 'authors', 'title', 'average_rating', 'ratings_count']] \\\n",
    "     .sort_values('average_rating', ascending = False).head(20)"
   ]
  },
  {
   "cell_type": "code",
   "execution_count": 16,
   "metadata": {},
   "outputs": [
    {
     "name": "stdout",
     "output_type": "stream",
     "text": [
      "2017.0\n",
      "-1750.0\n"
     ]
    }
   ],
   "source": [
    "print(df_books.original_publication_year.max())\n",
    "print(df_books.original_publication_year.min())\n",
    "\n",
    "# Here, min() shows a wrong entry in 'original_publication_year' as it is negative\n"
   ]
  },
  {
   "cell_type": "code",
   "execution_count": 17,
   "metadata": {},
   "outputs": [
    {
     "data": {
      "text/plain": [
       "31"
      ]
     },
     "execution_count": 17,
     "metadata": {},
     "output_type": "execute_result"
    }
   ],
   "source": [
    "# 31 entries shows a negative year\n",
    "df_books.original_publication_year[df_books.original_publication_year<=0].count()"
   ]
  },
  {
   "cell_type": "code",
   "execution_count": 18,
   "metadata": {},
   "outputs": [
    {
     "data": {
      "text/plain": [
       "21"
      ]
     },
     "execution_count": 18,
     "metadata": {},
     "output_type": "execute_result"
    }
   ],
   "source": [
    "df_books.original_publication_year.isna().sum() # Total 21  empty places in 'original_publication_year' column"
   ]
  },
  {
   "cell_type": "code",
   "execution_count": 19,
   "metadata": {},
   "outputs": [],
   "source": [
    "# From above two cells, we can say there are 52 (31+21) wrong entries in 'original_publication_year'"
   ]
  },
  {
   "cell_type": "code",
   "execution_count": 20,
   "metadata": {
    "scrolled": true
   },
   "outputs": [
    {
     "data": {
      "text/plain": [
       "9979"
      ]
     },
     "execution_count": 20,
     "metadata": {},
     "output_type": "execute_result"
    }
   ],
   "source": [
    "df_books.original_publication_year.count() \n",
    "\n",
    "# just to cross check above output. Count() shows that there are 9979 \n",
    "# entries with non numeric data \n"
   ]
  },
  {
   "cell_type": "code",
   "execution_count": 21,
   "metadata": {},
   "outputs": [],
   "source": [
    "# This is a method to clip those rows where value is lower than 0 and make them equal to 0 . \n",
    "# It is not required here.\n",
    "# df_books.original_publication_year = df_books.original_publication_year.clip(lower=0) "
   ]
  },
  {
   "cell_type": "code",
   "execution_count": 22,
   "metadata": {
    "scrolled": true
   },
   "outputs": [
    {
     "data": {
      "text/plain": [
       "False    9969\n",
       "True       31\n",
       "Name: original_publication_year, dtype: int64"
      ]
     },
     "execution_count": 22,
     "metadata": {},
     "output_type": "execute_result"
    }
   ],
   "source": [
    "(df_books.original_publication_year<0).value_counts()"
   ]
  },
  {
   "cell_type": "markdown",
   "metadata": {},
   "source": [
    "**It seems that 'goodreads_book_id' and 'best_book_id' column are same. Lets check it.**"
   ]
  },
  {
   "cell_type": "code",
   "execution_count": 23,
   "metadata": {},
   "outputs": [
    {
     "name": "stdout",
     "output_type": "stream",
     "text": [
      "241\n"
     ]
    }
   ],
   "source": [
    "g = df_books['goodreads_book_id'] - df_books['best_book_id']\n",
    "\n",
    "count_diff = 0\n",
    "\n",
    "for k in g:\n",
    "    if k!=0:\n",
    "        count_diff = count_diff +1\n",
    "\n",
    "print(count_diff)\n",
    "    \n",
    "# Output of this for loop says that there are 241 places where entries are not matching. \n",
    "# As of now I am dropping this 'best_book_id' column. \n"
   ]
  },
  {
   "cell_type": "code",
   "execution_count": 24,
   "metadata": {},
   "outputs": [
    {
     "data": {
      "text/plain": [
       "8916"
      ]
     },
     "execution_count": 24,
     "metadata": {},
     "output_type": "execute_result"
    }
   ],
   "source": [
    "df_books.language_code.value_counts().sum()  \n",
    "\n",
    "# Result shows that there are 1184 empty cells in 'language_code' column"
   ]
  },
  {
   "cell_type": "code",
   "execution_count": 25,
   "metadata": {},
   "outputs": [
    {
     "data": {
      "text/plain": [
       "count     8916\n",
       "unique      25\n",
       "top        eng\n",
       "freq      6341\n",
       "Name: language_code, dtype: object"
      ]
     },
     "execution_count": 25,
     "metadata": {},
     "output_type": "execute_result"
    }
   ],
   "source": [
    "# l1 = df_books.language_code.describe()  \n",
    "# print(l1)\n",
    "df_books.language_code.describe() \n",
    "# Result shows that 10000 books are written in 25 different types of langauges\n",
    "# Maximum books are written in english. In percentage it is 71.11 %\n"
   ]
  },
  {
   "cell_type": "code",
   "execution_count": 26,
   "metadata": {
    "scrolled": true
   },
   "outputs": [
    {
     "name": "stdout",
     "output_type": "stream",
     "text": [
      "eng      6341\n",
      "en-US    2070\n",
      "en-GB     257\n",
      "ara        64\n",
      "en-CA      58\n",
      "fre        25\n",
      "ind        21\n",
      "spa        20\n",
      "ger        13\n",
      "per         7\n",
      "jpn         7\n",
      "pol         6\n",
      "por         6\n",
      "en          4\n",
      "dan         3\n",
      "nor         3\n",
      "fil         2\n",
      "ita         2\n",
      "mul         1\n",
      "tur         1\n",
      "rum         1\n",
      "swe         1\n",
      "nl          1\n",
      "vie         1\n",
      "rus         1\n",
      "Name: language_code, dtype: int64\n"
     ]
    }
   ],
   "source": [
    "l2 = df_books.language_code.value_counts()    \n",
    "print(l2)\n",
    "\n",
    "# Here we can see that there are various variations in english language . "
   ]
  },
  {
   "cell_type": "code",
   "execution_count": 27,
   "metadata": {},
   "outputs": [
    {
     "data": {
      "text/plain": [
       "True     8730\n",
       "False    1270\n",
       "Name: language_code, dtype: int64"
      ]
     },
     "execution_count": 27,
     "metadata": {},
     "output_type": "execute_result"
    }
   ],
   "source": [
    "# to get the total number of books written in english , we can use regex as follows:\n",
    "\n",
    "(df_books.language_code.str.count(r'(^en.*)')==1).value_counts()"
   ]
  },
  {
   "cell_type": "code",
   "execution_count": 28,
   "metadata": {},
   "outputs": [
    {
     "data": {
      "image/png": "[encoded data removed]",
      "text/plain": [
       "<Figure size 720x720 with 1 Axes>"
      ]
     },
     "metadata": {},
     "output_type": "display_data"
    }
   ],
   "source": [
    "l2.head().plot(kind = 'pie', figsize=(10,10)).legend()\n",
    "plt.show()"
   ]
  },
  {
   "cell_type": "markdown",
   "metadata": {},
   "source": [
    "Result shows that total 8730 books are written in english language out of 8916  which is approx 98% of the total available books. "
   ]
  },
  {
   "cell_type": "code",
   "execution_count": 29,
   "metadata": {},
   "outputs": [],
   "source": [
    "df_ratings = pd.read_csv('ratings.csv')"
   ]
  },
  {
   "cell_type": "code",
   "execution_count": 30,
   "metadata": {
    "scrolled": false
   },
   "outputs": [
    {
     "data": {
      "text/plain": [
       "4    2377\n",
       "3    1776\n",
       "5    1586\n",
       "2     330\n",
       "1      66\n",
       "Name: rating, dtype: int64"
      ]
     },
     "execution_count": 30,
     "metadata": {},
     "output_type": "execute_result"
    }
   ],
   "source": [
    "df_ratings[df_ratings['book_id']==123]['rating'].value_counts()"
   ]
  },
  {
   "cell_type": "code",
   "execution_count": 31,
   "metadata": {
    "scrolled": false
   },
   "outputs": [
    {
     "data": {
      "text/html": [
       "<div>\n",
       "<style scoped>\n",
       "    .dataframe tbody tr th:only-of-type {\n",
       "        vertical-align: middle;\n",
       "    }\n",
       "\n",
       "    .dataframe tbody tr th {\n",
       "        vertical-align: top;\n",
       "    }\n",
       "\n",
       "    .dataframe thead th {\n",
       "        text-align: right;\n",
       "    }\n",
       "</style>\n",
       "<table border=\"1\" class=\"dataframe\">\n",
       "  <thead>\n",
       "    <tr style=\"text-align: right;\">\n",
       "      <th></th>\n",
       "      <th>book_id</th>\n",
       "      <th>goodreads_book_id</th>\n",
       "      <th>best_book_id</th>\n",
       "      <th>work_id</th>\n",
       "      <th>books_count</th>\n",
       "      <th>isbn</th>\n",
       "      <th>isbn13</th>\n",
       "      <th>authors</th>\n",
       "      <th>original_publication_year</th>\n",
       "      <th>original_title</th>\n",
       "      <th>...</th>\n",
       "      <th>ratings_count</th>\n",
       "      <th>work_ratings_count</th>\n",
       "      <th>work_text_reviews_count</th>\n",
       "      <th>ratings_1</th>\n",
       "      <th>ratings_2</th>\n",
       "      <th>ratings_3</th>\n",
       "      <th>ratings_4</th>\n",
       "      <th>ratings_5</th>\n",
       "      <th>image_url</th>\n",
       "      <th>small_image_url</th>\n",
       "    </tr>\n",
       "  </thead>\n",
       "  <tbody>\n",
       "    <tr>\n",
       "      <td>122</td>\n",
       "      <td>123</td>\n",
       "      <td>5358</td>\n",
       "      <td>5358</td>\n",
       "      <td>38270</td>\n",
       "      <td>11</td>\n",
       "      <td>582418275</td>\n",
       "      <td>9.780582e+12</td>\n",
       "      <td>John Grisham</td>\n",
       "      <td>1991.0</td>\n",
       "      <td>The Firm</td>\n",
       "      <td>...</td>\n",
       "      <td>488269</td>\n",
       "      <td>488355</td>\n",
       "      <td>3139</td>\n",
       "      <td>5075</td>\n",
       "      <td>20119</td>\n",
       "      <td>111543</td>\n",
       "      <td>190966</td>\n",
       "      <td>160652</td>\n",
       "      <td>https://images.gr-assets.com/books/1418465200m...</td>\n",
       "      <td>https://images.gr-assets.com/books/1418465200s...</td>\n",
       "    </tr>\n",
       "  </tbody>\n",
       "</table>\n",
       "<p>1 rows × 23 columns</p>\n",
       "</div>"
      ],
      "text/plain": [
       "     book_id  goodreads_book_id  best_book_id  work_id  books_count  \\\n",
       "122      123               5358          5358    38270           11   \n",
       "\n",
       "          isbn        isbn13       authors  original_publication_year  \\\n",
       "122  582418275  9.780582e+12  John Grisham                     1991.0   \n",
       "\n",
       "    original_title  ... ratings_count work_ratings_count  \\\n",
       "122       The Firm  ...        488269             488355   \n",
       "\n",
       "     work_text_reviews_count  ratings_1  ratings_2  ratings_3  ratings_4  \\\n",
       "122                     3139       5075      20119     111543     190966   \n",
       "\n",
       "     ratings_5                                          image_url  \\\n",
       "122     160652  https://images.gr-assets.com/books/1418465200m...   \n",
       "\n",
       "                                       small_image_url  \n",
       "122  https://images.gr-assets.com/books/1418465200s...  \n",
       "\n",
       "[1 rows x 23 columns]"
      ]
     },
     "execution_count": 31,
     "metadata": {},
     "output_type": "execute_result"
    }
   ],
   "source": [
    "df_books[df_books['book_id']==123]\n"
   ]
  },
  {
   "cell_type": "markdown",
   "metadata": {},
   "source": [
    "We can see that there is some difference in rating factor given in df_books and df_ratings. There are many extra entries for rating in df_books.These entries are from non - registered users. we will drop these column and use those rating which are given in df_ratings only."
   ]
  },
  {
   "cell_type": "code",
   "execution_count": 32,
   "metadata": {},
   "outputs": [
    {
     "data": {
      "text/plain": [
       "book_id\n",
       "1       22806\n",
       "2       21850\n",
       "4       19088\n",
       "3       16931\n",
       "5       16604\n",
       "        ...  \n",
       "9315       36\n",
       "1935       33\n",
       "9486       24\n",
       "9345       11\n",
       "7803        8\n",
       "Name: rating, Length: 10000, dtype: int64"
      ]
     },
     "execution_count": 32,
     "metadata": {},
     "output_type": "execute_result"
    }
   ],
   "source": [
    "df_ratings.groupby('book_id')['rating'].count().sort_values(ascending=False)"
   ]
  },
  {
   "cell_type": "code",
   "execution_count": 33,
   "metadata": {},
   "outputs": [
    {
     "data": {
      "text/plain": [
       "[1, 2, 4, 3, 5, 17, 20, 18, 23, 7]"
      ]
     },
     "execution_count": 33,
     "metadata": {},
     "output_type": "execute_result"
    }
   ],
   "source": [
    "# List of book ids of Top-10 books\n",
    "\n",
    "df_user_rating = df_ratings.groupby('book_id')['rating'].count().sort_values(ascending=False)\n",
    "df_top_10_books=df_user_rating[0:10]\n",
    "z = list(df_top_10_books.index)\n",
    "z"
   ]
  },
  {
   "cell_type": "code",
   "execution_count": 34,
   "metadata": {},
   "outputs": [
    {
     "data": {
      "text/plain": [
       "0               The Hunger Games (The Hunger Games, #1)\n",
       "1     Harry Potter and the Sorcerer's Stone (Harry P...\n",
       "2                               Twilight (Twilight, #1)\n",
       "3                                 To Kill a Mockingbird\n",
       "4                                      The Great Gatsby\n",
       "6                                            The Hobbit\n",
       "16                 Catching Fire (The Hunger Games, #2)\n",
       "17    Harry Potter and the Prisoner of Azkaban (Harr...\n",
       "19                    Mockingjay (The Hunger Games, #3)\n",
       "22    Harry Potter and the Chamber of Secrets (Harry...\n",
       "Name: title, dtype: object"
      ]
     },
     "execution_count": 34,
     "metadata": {},
     "output_type": "execute_result"
    }
   ],
   "source": [
    "# Title of the top rated books\n",
    "\n",
    "df_books[df_books['book_id'].isin(z)]['title']\n"
   ]
  },
  {
   "cell_type": "markdown",
   "metadata": {},
   "source": [
    "## Analysis of df_books DataFrame(24 columns) :\n",
    "    1) 'book_id' : This column is present in df_rating also. We need to merge these both dataframes to get the result\n",
    "    2) 'goodreads_book_id' : These are unique book ids which can be mapped with df_book_tag\n",
    "    3) 'best_book_id','work_id','books_count','isbn','isbn13': All these columns are of no use in further analysis and can         be dropped. \n",
    "    4) 'authors' ,'title' these column will be useful for further analysis.\n",
    "    5) 'Original_title','small_image_url' these columns can be dropped. \n",
    "    6)  There are total six columns related to rating on the scale of 1-5 and then average rating. But this data is not\n",
    "        mapped with ratings given in ratings.csv file. so dicsrding these columns. \n"
   ]
  },
  {
   "cell_type": "markdown",
   "metadata": {},
   "source": [
    "**Lets load the 'ratings.csv' file and explore it**"
   ]
  },
  {
   "cell_type": "code",
   "execution_count": 35,
   "metadata": {},
   "outputs": [
    {
     "data": {
      "text/html": [
       "<div>\n",
       "<style scoped>\n",
       "    .dataframe tbody tr th:only-of-type {\n",
       "        vertical-align: middle;\n",
       "    }\n",
       "\n",
       "    .dataframe tbody tr th {\n",
       "        vertical-align: top;\n",
       "    }\n",
       "\n",
       "    .dataframe thead th {\n",
       "        text-align: right;\n",
       "    }\n",
       "</style>\n",
       "<table border=\"1\" class=\"dataframe\">\n",
       "  <thead>\n",
       "    <tr style=\"text-align: right;\">\n",
       "      <th></th>\n",
       "      <th>user_id</th>\n",
       "      <th>book_id</th>\n",
       "      <th>rating</th>\n",
       "    </tr>\n",
       "  </thead>\n",
       "  <tbody>\n",
       "    <tr>\n",
       "      <td>0</td>\n",
       "      <td>1</td>\n",
       "      <td>258</td>\n",
       "      <td>5</td>\n",
       "    </tr>\n",
       "    <tr>\n",
       "      <td>1</td>\n",
       "      <td>2</td>\n",
       "      <td>4081</td>\n",
       "      <td>4</td>\n",
       "    </tr>\n",
       "    <tr>\n",
       "      <td>2</td>\n",
       "      <td>2</td>\n",
       "      <td>260</td>\n",
       "      <td>5</td>\n",
       "    </tr>\n",
       "    <tr>\n",
       "      <td>3</td>\n",
       "      <td>2</td>\n",
       "      <td>9296</td>\n",
       "      <td>5</td>\n",
       "    </tr>\n",
       "    <tr>\n",
       "      <td>4</td>\n",
       "      <td>2</td>\n",
       "      <td>2318</td>\n",
       "      <td>3</td>\n",
       "    </tr>\n",
       "  </tbody>\n",
       "</table>\n",
       "</div>"
      ],
      "text/plain": [
       "   user_id  book_id  rating\n",
       "0        1      258       5\n",
       "1        2     4081       4\n",
       "2        2      260       5\n",
       "3        2     9296       5\n",
       "4        2     2318       3"
      ]
     },
     "execution_count": 35,
     "metadata": {},
     "output_type": "execute_result"
    }
   ],
   "source": [
    "df_ratings = pd.read_csv('ratings.csv')\n",
    "df_ratings.head()"
   ]
  },
  {
   "cell_type": "code",
   "execution_count": 36,
   "metadata": {},
   "outputs": [
    {
     "data": {
      "text/html": [
       "<div>\n",
       "<style scoped>\n",
       "    .dataframe tbody tr th:only-of-type {\n",
       "        vertical-align: middle;\n",
       "    }\n",
       "\n",
       "    .dataframe tbody tr th {\n",
       "        vertical-align: top;\n",
       "    }\n",
       "\n",
       "    .dataframe thead th {\n",
       "        text-align: right;\n",
       "    }\n",
       "</style>\n",
       "<table border=\"1\" class=\"dataframe\">\n",
       "  <thead>\n",
       "    <tr style=\"text-align: right;\">\n",
       "      <th></th>\n",
       "      <th>user_id</th>\n",
       "      <th>book_id</th>\n",
       "      <th>rating</th>\n",
       "    </tr>\n",
       "  </thead>\n",
       "  <tbody>\n",
       "    <tr>\n",
       "      <td>count</td>\n",
       "      <td>5.976479e+06</td>\n",
       "      <td>5.976479e+06</td>\n",
       "      <td>5.976479e+06</td>\n",
       "    </tr>\n",
       "    <tr>\n",
       "      <td>mean</td>\n",
       "      <td>2.622446e+04</td>\n",
       "      <td>2.006477e+03</td>\n",
       "      <td>3.919866e+00</td>\n",
       "    </tr>\n",
       "    <tr>\n",
       "      <td>std</td>\n",
       "      <td>1.541323e+04</td>\n",
       "      <td>2.468499e+03</td>\n",
       "      <td>9.910868e-01</td>\n",
       "    </tr>\n",
       "    <tr>\n",
       "      <td>min</td>\n",
       "      <td>1.000000e+00</td>\n",
       "      <td>1.000000e+00</td>\n",
       "      <td>1.000000e+00</td>\n",
       "    </tr>\n",
       "    <tr>\n",
       "      <td>25%</td>\n",
       "      <td>1.281300e+04</td>\n",
       "      <td>1.980000e+02</td>\n",
       "      <td>3.000000e+00</td>\n",
       "    </tr>\n",
       "    <tr>\n",
       "      <td>50%</td>\n",
       "      <td>2.593800e+04</td>\n",
       "      <td>8.850000e+02</td>\n",
       "      <td>4.000000e+00</td>\n",
       "    </tr>\n",
       "    <tr>\n",
       "      <td>75%</td>\n",
       "      <td>3.950900e+04</td>\n",
       "      <td>2.973000e+03</td>\n",
       "      <td>5.000000e+00</td>\n",
       "    </tr>\n",
       "    <tr>\n",
       "      <td>max</td>\n",
       "      <td>5.342400e+04</td>\n",
       "      <td>1.000000e+04</td>\n",
       "      <td>5.000000e+00</td>\n",
       "    </tr>\n",
       "  </tbody>\n",
       "</table>\n",
       "</div>"
      ],
      "text/plain": [
       "            user_id       book_id        rating\n",
       "count  5.976479e+06  5.976479e+06  5.976479e+06\n",
       "mean   2.622446e+04  2.006477e+03  3.919866e+00\n",
       "std    1.541323e+04  2.468499e+03  9.910868e-01\n",
       "min    1.000000e+00  1.000000e+00  1.000000e+00\n",
       "25%    1.281300e+04  1.980000e+02  3.000000e+00\n",
       "50%    2.593800e+04  8.850000e+02  4.000000e+00\n",
       "75%    3.950900e+04  2.973000e+03  5.000000e+00\n",
       "max    5.342400e+04  1.000000e+04  5.000000e+00"
      ]
     },
     "execution_count": 36,
     "metadata": {},
     "output_type": "execute_result"
    }
   ],
   "source": [
    "df_ratings.describe()"
   ]
  },
  {
   "cell_type": "code",
   "execution_count": 37,
   "metadata": {
    "scrolled": true
   },
   "outputs": [
    {
     "data": {
      "text/plain": [
       "(5976479, 3)"
      ]
     },
     "execution_count": 37,
     "metadata": {},
     "output_type": "execute_result"
    }
   ],
   "source": [
    "df_ratings.shape"
   ]
  },
  {
   "cell_type": "code",
   "execution_count": 38,
   "metadata": {},
   "outputs": [
    {
     "data": {
      "text/plain": [
       "Index(['user_id', 'book_id', 'rating'], dtype='object')"
      ]
     },
     "execution_count": 38,
     "metadata": {},
     "output_type": "execute_result"
    }
   ],
   "source": [
    "df_ratings.columns"
   ]
  },
  {
   "cell_type": "code",
   "execution_count": 39,
   "metadata": {},
   "outputs": [
    {
     "data": {
      "text/plain": [
       "53424"
      ]
     },
     "execution_count": 39,
     "metadata": {},
     "output_type": "execute_result"
    }
   ],
   "source": [
    "# How many unique users are rating the books ? \n",
    "# Out of 5976479 users entries, only 53424 are unique\n",
    "\n",
    "df_ratings.user_id.nunique()"
   ]
  },
  {
   "cell_type": "code",
   "execution_count": 40,
   "metadata": {},
   "outputs": [
    {
     "data": {
      "text/plain": [
       "5976479"
      ]
     },
     "execution_count": 40,
     "metadata": {},
     "output_type": "execute_result"
    }
   ],
   "source": [
    "df_ratings.user_id.count()"
   ]
  },
  {
   "cell_type": "code",
   "execution_count": 41,
   "metadata": {},
   "outputs": [
    {
     "data": {
      "text/plain": [
       "10000"
      ]
     },
     "execution_count": 41,
     "metadata": {},
     "output_type": "execute_result"
    }
   ],
   "source": [
    "df_ratings.book_id.nunique()"
   ]
  },
  {
   "cell_type": "code",
   "execution_count": 42,
   "metadata": {},
   "outputs": [
    {
     "data": {
      "text/plain": [
       "5976479"
      ]
     },
     "execution_count": 42,
     "metadata": {},
     "output_type": "execute_result"
    }
   ],
   "source": [
    "df_ratings.book_id.count()"
   ]
  },
  {
   "cell_type": "markdown",
   "metadata": {},
   "source": [
    "We can use aggregate function to get the data which we have calculated in above 4 cells. "
   ]
  },
  {
   "cell_type": "code",
   "execution_count": 43,
   "metadata": {},
   "outputs": [
    {
     "data": {
      "text/html": [
       "<div>\n",
       "<style scoped>\n",
       "    .dataframe tbody tr th:only-of-type {\n",
       "        vertical-align: middle;\n",
       "    }\n",
       "\n",
       "    .dataframe tbody tr th {\n",
       "        vertical-align: top;\n",
       "    }\n",
       "\n",
       "    .dataframe thead th {\n",
       "        text-align: right;\n",
       "    }\n",
       "</style>\n",
       "<table border=\"1\" class=\"dataframe\">\n",
       "  <thead>\n",
       "    <tr style=\"text-align: right;\">\n",
       "      <th></th>\n",
       "      <th>user_id</th>\n",
       "      <th>book_id</th>\n",
       "      <th>rating</th>\n",
       "    </tr>\n",
       "  </thead>\n",
       "  <tbody>\n",
       "    <tr>\n",
       "      <td>count</td>\n",
       "      <td>5976479</td>\n",
       "      <td>5976479</td>\n",
       "      <td>5976479</td>\n",
       "    </tr>\n",
       "    <tr>\n",
       "      <td>nunique</td>\n",
       "      <td>53424</td>\n",
       "      <td>10000</td>\n",
       "      <td>5</td>\n",
       "    </tr>\n",
       "  </tbody>\n",
       "</table>\n",
       "</div>"
      ],
      "text/plain": [
       "         user_id  book_id   rating\n",
       "count    5976479  5976479  5976479\n",
       "nunique    53424    10000        5"
      ]
     },
     "execution_count": 43,
     "metadata": {},
     "output_type": "execute_result"
    }
   ],
   "source": [
    "df_ratings.agg(['count','nunique'])"
   ]
  },
  {
   "cell_type": "code",
   "execution_count": 44,
   "metadata": {},
   "outputs": [
    {
     "data": {
      "text/plain": [
       "0"
      ]
     },
     "execution_count": 44,
     "metadata": {},
     "output_type": "execute_result"
    }
   ],
   "source": [
    "# Check if any null value in columns\n",
    "\n",
    "df_ratings.user_id.isnull().sum()"
   ]
  },
  {
   "cell_type": "code",
   "execution_count": 45,
   "metadata": {},
   "outputs": [
    {
     "data": {
      "text/plain": [
       "0"
      ]
     },
     "execution_count": 45,
     "metadata": {},
     "output_type": "execute_result"
    }
   ],
   "source": [
    "df_ratings.book_id.isnull().sum()"
   ]
  },
  {
   "cell_type": "code",
   "execution_count": 46,
   "metadata": {},
   "outputs": [
    {
     "data": {
      "text/plain": [
       "0"
      ]
     },
     "execution_count": 46,
     "metadata": {},
     "output_type": "execute_result"
    }
   ],
   "source": [
    "df_ratings.rating.isnull().sum()"
   ]
  },
  {
   "cell_type": "markdown",
   "metadata": {},
   "source": [
    "**So as per the gathered information we can say that there are total 10000 different books, rated by 53424 unique users with total 5976479 ratings.**"
   ]
  },
  {
   "cell_type": "code",
   "execution_count": 47,
   "metadata": {
    "scrolled": true
   },
   "outputs": [
    {
     "data": {
      "image/png": "[encoded data removed]",
      "text/plain": [
       "<Figure size 432x288 with 1 Axes>"
      ]
     },
     "metadata": {
      "needs_background": "light"
     },
     "output_type": "display_data"
    }
   ],
   "source": [
    "plt.hist(df_ratings.rating)\n",
    "\n",
    "plt.xlabel('Types of Ratings[0-5]')\n",
    "plt.ylabel('Number of Ratings given by the users')\n",
    "plt.title('Relation between Rating and its frequency')\n",
    "plt.grid()\n",
    "\n",
    "plt.savefig(\"Rating vs Freq.png\")\n",
    "plt.show()\n"
   ]
  },
  {
   "cell_type": "code",
   "execution_count": 48,
   "metadata": {},
   "outputs": [],
   "source": [
    "## Why this following line gives a different idea about the data\n",
    "#plt.hist(df_ratings['rating'], bins=[0.5, 1.5, 2.5, 3.5, 4.5, 5.5],rwidth=0.5);"
   ]
  },
  {
   "cell_type": "markdown",
   "metadata": {},
   "source": [
    "**Above graph shows that maximum ratings are between 3 to 5 and more than 2 million users rated around 4 . Lets check for the specific numbers.**"
   ]
  },
  {
   "cell_type": "code",
   "execution_count": 49,
   "metadata": {},
   "outputs": [
    {
     "data": {
      "text/plain": [
       "4122111"
      ]
     },
     "execution_count": 49,
     "metadata": {},
     "output_type": "execute_result"
    }
   ],
   "source": [
    "df_ratings[(df_ratings.rating>=4)&(df_ratings.rating<=5)].count()[0]\n",
    "\n",
    "# Number of ratings between 4 and 5. \n",
    "# It is approx 70% of the total rating."
   ]
  },
  {
   "cell_type": "markdown",
   "metadata": {},
   "source": [
    "Lets check how many times a single user gave rating."
   ]
  },
  {
   "cell_type": "code",
   "execution_count": 50,
   "metadata": {},
   "outputs": [],
   "source": [
    "df_user_rating = df_ratings.groupby('user_id')['rating']\n"
   ]
  },
  {
   "cell_type": "code",
   "execution_count": 51,
   "metadata": {},
   "outputs": [],
   "source": [
    "# %%time \n",
    "\n",
    "# df_user_rating.describe()"
   ]
  },
  {
   "cell_type": "markdown",
   "metadata": {},
   "source": [
    "**We should pay attention here, The above query took almost 3 minutes . Lets try some ways to reduce the time and make it more efficient**"
   ]
  },
  {
   "cell_type": "code",
   "execution_count": 52,
   "metadata": {},
   "outputs": [],
   "source": [
    "df_user_rating = df_ratings.groupby('user_id')['rating'].count().sort_values()\n"
   ]
  },
  {
   "cell_type": "code",
   "execution_count": 53,
   "metadata": {
    "scrolled": true
   },
   "outputs": [],
   "source": [
    "# %%time \n",
    "# df_user_rating.describe()"
   ]
  },
  {
   "cell_type": "markdown",
   "metadata": {},
   "source": [
    "This above query is more useful as it is giving us all over information about rating and user."
   ]
  },
  {
   "cell_type": "code",
   "execution_count": 54,
   "metadata": {},
   "outputs": [
    {
     "data": {
      "image/png": "[encoded data removed]",
      "text/plain": [
       "<Figure size 432x288 with 1 Axes>"
      ]
     },
     "metadata": {
      "needs_background": "light"
     },
     "output_type": "display_data"
    }
   ],
   "source": [
    "plt.hist(df_user_rating,color = 'skyblue')  # plt.hist(df_user_rating,bins=5,color = 'skyblue')\n",
    "                                            # Why bin=5 gives a different output?\n",
    "plt.xlabel('Number of ratings')\n",
    "plt.ylabel('Number of users')\n",
    "plt.title('Number of rated book vs Users')\n",
    "plt.grid()\n",
    "\n",
    "plt.savefig(\"Number of rated book vs Users.png\")\n",
    "plt.show()"
   ]
  },
  {
   "cell_type": "markdown",
   "metadata": {},
   "source": [
    "Now we will examine the book information. Lets start with How many times a book has been rated?"
   ]
  },
  {
   "cell_type": "code",
   "execution_count": 55,
   "metadata": {},
   "outputs": [
    {
     "data": {
      "text/plain": [
       "count    10000.000000\n",
       "mean       597.647900\n",
       "std       1267.289788\n",
       "min          8.000000\n",
       "25%        155.000000\n",
       "50%        248.000000\n",
       "75%        503.000000\n",
       "max      22806.000000\n",
       "Name: rating, dtype: float64"
      ]
     },
     "execution_count": 55,
     "metadata": {},
     "output_type": "execute_result"
    }
   ],
   "source": [
    "series_book_rating = df_ratings.groupby('book_id')['rating'].count().sort_values(ascending=False)\n",
    "series_book_rating.describe()"
   ]
  },
  {
   "cell_type": "code",
   "execution_count": 56,
   "metadata": {},
   "outputs": [
    {
     "data": {
      "text/plain": [
       "book_id\n",
       "1    22806\n",
       "2    21850\n",
       "4    19088\n",
       "3    16931\n",
       "5    16604\n",
       "Name: rating, dtype: int64"
      ]
     },
     "execution_count": 56,
     "metadata": {},
     "output_type": "execute_result"
    }
   ],
   "source": [
    "series_book_rating.head()"
   ]
  },
  {
   "cell_type": "code",
   "execution_count": 57,
   "metadata": {
    "scrolled": true
   },
   "outputs": [
    {
     "data": {
      "text/plain": [
       "book_id\n",
       "9315    36\n",
       "1935    33\n",
       "9486    24\n",
       "9345    11\n",
       "7803     8\n",
       "Name: rating, dtype: int64"
      ]
     },
     "execution_count": 57,
     "metadata": {},
     "output_type": "execute_result"
    }
   ],
   "source": [
    "series_book_rating.tail()"
   ]
  },
  {
   "cell_type": "code",
   "execution_count": 58,
   "metadata": {
    "scrolled": true
   },
   "outputs": [
    {
     "data": {
      "text/plain": [
       "Int64Index([   1,    2,    4,    3,    5,   17,   20,   18,   23,    7,\n",
       "            ...\n",
       "            9705, 9260, 9479, 8181, 9553, 9315, 1935, 9486, 9345, 7803],\n",
       "           dtype='int64', name='book_id', length=10000)"
      ]
     },
     "execution_count": 58,
     "metadata": {},
     "output_type": "execute_result"
    }
   ],
   "source": [
    "series_book_rating.index"
   ]
  },
  {
   "cell_type": "code",
   "execution_count": 59,
   "metadata": {
    "scrolled": true
   },
   "outputs": [
    {
     "data": {
      "text/plain": [
       "Int64Index([    1,     2,     3,     4,     5,     6,     7,     8,     9,\n",
       "               10,\n",
       "            ...\n",
       "             9991,  9992,  9993,  9994,  9995,  9996,  9997,  9998,  9999,\n",
       "            10000],\n",
       "           dtype='int64', name='book_id', length=10000)"
      ]
     },
     "execution_count": 59,
     "metadata": {},
     "output_type": "execute_result"
    }
   ],
   "source": [
    "series_book_rating.sort_index().index"
   ]
  },
  {
   "cell_type": "code",
   "execution_count": 60,
   "metadata": {},
   "outputs": [],
   "source": [
    "x = list(series_book_rating.sort_index().index)\n"
   ]
  },
  {
   "cell_type": "code",
   "execution_count": 61,
   "metadata": {},
   "outputs": [
    {
     "data": {
      "text/plain": [
       "book_id\n",
       "1    22806\n",
       "2    21850\n",
       "3    16931\n",
       "4    19088\n",
       "5    16604\n",
       "Name: rating, dtype: int64"
      ]
     },
     "execution_count": 61,
     "metadata": {},
     "output_type": "execute_result"
    }
   ],
   "source": [
    "series_book_rating.sort_index().head()"
   ]
  },
  {
   "cell_type": "code",
   "execution_count": 62,
   "metadata": {},
   "outputs": [],
   "source": [
    "y = list(series_book_rating.sort_index())"
   ]
  },
  {
   "cell_type": "markdown",
   "metadata": {},
   "source": [
    "Here x represents a list of sorted index numbers which is (1-10000) and y represents number of ratings for specifc index number.In x and y, index number is book_id only. Now We can plot a graph between these two entities to find the relation ."
   ]
  },
  {
   "cell_type": "code",
   "execution_count": 63,
   "metadata": {},
   "outputs": [
    {
     "data": {
      "image/png": "[encoded data removed]",
      "text/plain": [
       "<Figure size 432x288 with 1 Axes>"
      ]
     },
     "metadata": {
      "needs_background": "light"
     },
     "output_type": "display_data"
    }
   ],
   "source": [
    "\n",
    "plt.scatter(x,y)\n",
    "plt.title('Book vs Rating')\n",
    "plt.xlabel('Book id ')\n",
    "plt.ylabel('Ratings')\n",
    "\n",
    "plt.grid(True)\n",
    "plt.savefig('Book vs Rating.png');\n",
    "plt.show()"
   ]
  },
  {
   "cell_type": "markdown",
   "metadata": {},
   "source": [
    "In the above graph we can see that most of the entries are touching x-axis and y-axis . This state of graph is not suitable for further analysis. To improve the visibility, we can use log scale. "
   ]
  },
  {
   "cell_type": "code",
   "execution_count": 64,
   "metadata": {},
   "outputs": [
    {
     "data": {
      "image/png": "[encoded data removed]",
      "text/plain": [
       "<Figure size 432x288 with 1 Axes>"
      ]
     },
     "metadata": {
      "needs_background": "light"
     },
     "output_type": "display_data"
    }
   ],
   "source": [
    "plt.scatter(x,y,s=1,alpha=.1)\n",
    "plt.title('Book vs Rating')\n",
    "plt.xlabel('Book id ')\n",
    "plt.ylabel('Ratings')\n",
    "plt.yscale('log')\n",
    "\n",
    "plt.grid(True)\n",
    "plt.savefig('Book vs Rating.png');\n",
    "plt.show()"
   ]
  },
  {
   "cell_type": "markdown",
   "metadata": {},
   "source": [
    "See the difference! only marker-size(s) and alpha(which makes graph opaque or transparent) added and log scale. Graph shows that maximum books are rated between 100 to 1000 times. We can a corelation between book_id and rating as well."
   ]
  },
  {
   "cell_type": "code",
   "execution_count": 65,
   "metadata": {},
   "outputs": [
    {
     "data": {
      "text/plain": [
       "22806"
      ]
     },
     "execution_count": 65,
     "metadata": {},
     "output_type": "execute_result"
    }
   ],
   "source": [
    "(df_ratings.loc[df_ratings.book_id == 1,'rating']).count()  #exact number of ratings given to book_id = 1 "
   ]
  },
  {
   "cell_type": "code",
   "execution_count": null,
   "metadata": {},
   "outputs": [],
   "source": []
  },
  {
   "cell_type": "markdown",
   "metadata": {},
   "source": [
    "***Lets load the 'tags.csv' file and explore it***"
   ]
  },
  {
   "cell_type": "code",
   "execution_count": 66,
   "metadata": {
    "scrolled": true
   },
   "outputs": [
    {
     "name": "stdout",
     "output_type": "stream",
     "text": [
      "<class 'pandas.core.frame.DataFrame'>\n",
      "RangeIndex: 34252 entries, 0 to 34251\n",
      "Data columns (total 2 columns):\n",
      "tag_id      34252 non-null int64\n",
      "tag_name    34252 non-null object\n",
      "dtypes: int64(1), object(1)\n",
      "memory usage: 535.3+ KB\n"
     ]
    }
   ],
   "source": [
    "df_tags = pd.read_csv('tags.csv')\n",
    "df_tags.info()"
   ]
  },
  {
   "cell_type": "code",
   "execution_count": 67,
   "metadata": {},
   "outputs": [
    {
     "data": {
      "text/plain": [
       "(34252, 2)"
      ]
     },
     "execution_count": 67,
     "metadata": {},
     "output_type": "execute_result"
    }
   ],
   "source": [
    "df_tags.shape"
   ]
  },
  {
   "cell_type": "code",
   "execution_count": 68,
   "metadata": {},
   "outputs": [
    {
     "data": {
      "text/html": [
       "<div>\n",
       "<style scoped>\n",
       "    .dataframe tbody tr th:only-of-type {\n",
       "        vertical-align: middle;\n",
       "    }\n",
       "\n",
       "    .dataframe tbody tr th {\n",
       "        vertical-align: top;\n",
       "    }\n",
       "\n",
       "    .dataframe thead th {\n",
       "        text-align: right;\n",
       "    }\n",
       "</style>\n",
       "<table border=\"1\" class=\"dataframe\">\n",
       "  <thead>\n",
       "    <tr style=\"text-align: right;\">\n",
       "      <th></th>\n",
       "      <th>tag_id</th>\n",
       "      <th>tag_name</th>\n",
       "    </tr>\n",
       "  </thead>\n",
       "  <tbody>\n",
       "    <tr>\n",
       "      <td>0</td>\n",
       "      <td>0</td>\n",
       "      <td>-</td>\n",
       "    </tr>\n",
       "    <tr>\n",
       "      <td>1</td>\n",
       "      <td>1</td>\n",
       "      <td>--1-</td>\n",
       "    </tr>\n",
       "    <tr>\n",
       "      <td>2</td>\n",
       "      <td>2</td>\n",
       "      <td>--10-</td>\n",
       "    </tr>\n",
       "    <tr>\n",
       "      <td>3</td>\n",
       "      <td>3</td>\n",
       "      <td>--12-</td>\n",
       "    </tr>\n",
       "    <tr>\n",
       "      <td>4</td>\n",
       "      <td>4</td>\n",
       "      <td>--122-</td>\n",
       "    </tr>\n",
       "  </tbody>\n",
       "</table>\n",
       "</div>"
      ],
      "text/plain": [
       "   tag_id tag_name\n",
       "0       0        -\n",
       "1       1     --1-\n",
       "2       2    --10-\n",
       "3       3    --12-\n",
       "4       4   --122-"
      ]
     },
     "execution_count": 68,
     "metadata": {},
     "output_type": "execute_result"
    }
   ],
   "source": [
    "df_tags.head()"
   ]
  },
  {
   "cell_type": "code",
   "execution_count": 69,
   "metadata": {},
   "outputs": [
    {
     "data": {
      "text/html": [
       "<div>\n",
       "<style scoped>\n",
       "    .dataframe tbody tr th:only-of-type {\n",
       "        vertical-align: middle;\n",
       "    }\n",
       "\n",
       "    .dataframe tbody tr th {\n",
       "        vertical-align: top;\n",
       "    }\n",
       "\n",
       "    .dataframe thead th {\n",
       "        text-align: right;\n",
       "    }\n",
       "</style>\n",
       "<table border=\"1\" class=\"dataframe\">\n",
       "  <thead>\n",
       "    <tr style=\"text-align: right;\">\n",
       "      <th></th>\n",
       "      <th>tag_id</th>\n",
       "      <th>tag_name</th>\n",
       "    </tr>\n",
       "  </thead>\n",
       "  <tbody>\n",
       "    <tr>\n",
       "      <td>34247</td>\n",
       "      <td>34247</td>\n",
       "      <td>Ｃhildrens</td>\n",
       "    </tr>\n",
       "    <tr>\n",
       "      <td>34248</td>\n",
       "      <td>34248</td>\n",
       "      <td>Ｆａｖｏｒｉｔｅｓ</td>\n",
       "    </tr>\n",
       "    <tr>\n",
       "      <td>34249</td>\n",
       "      <td>34249</td>\n",
       "      <td>Ｍａｎｇａ</td>\n",
       "    </tr>\n",
       "    <tr>\n",
       "      <td>34250</td>\n",
       "      <td>34250</td>\n",
       "      <td>ＳＥＲＩＥＳ</td>\n",
       "    </tr>\n",
       "    <tr>\n",
       "      <td>34251</td>\n",
       "      <td>34251</td>\n",
       "      <td>ｆａｖｏｕｒｉｔｅｓ</td>\n",
       "    </tr>\n",
       "  </tbody>\n",
       "</table>\n",
       "</div>"
      ],
      "text/plain": [
       "       tag_id    tag_name\n",
       "34247   34247   Ｃhildrens\n",
       "34248   34248   Ｆａｖｏｒｉｔｅｓ\n",
       "34249   34249       Ｍａｎｇａ\n",
       "34250   34250      ＳＥＲＩＥＳ\n",
       "34251   34251  ｆａｖｏｕｒｉｔｅｓ"
      ]
     },
     "execution_count": 69,
     "metadata": {},
     "output_type": "execute_result"
    }
   ],
   "source": [
    "df_tags.tail()"
   ]
  },
  {
   "cell_type": "code",
   "execution_count": 70,
   "metadata": {},
   "outputs": [
    {
     "data": {
      "text/html": [
       "<div>\n",
       "<style scoped>\n",
       "    .dataframe tbody tr th:only-of-type {\n",
       "        vertical-align: middle;\n",
       "    }\n",
       "\n",
       "    .dataframe tbody tr th {\n",
       "        vertical-align: top;\n",
       "    }\n",
       "\n",
       "    .dataframe thead th {\n",
       "        text-align: right;\n",
       "    }\n",
       "</style>\n",
       "<table border=\"1\" class=\"dataframe\">\n",
       "  <thead>\n",
       "    <tr style=\"text-align: right;\">\n",
       "      <th></th>\n",
       "      <th>tag_id</th>\n",
       "      <th>tag_name</th>\n",
       "    </tr>\n",
       "  </thead>\n",
       "  <tbody>\n",
       "    <tr>\n",
       "      <td>10960</td>\n",
       "      <td>10960</td>\n",
       "      <td>evans-richard-paul</td>\n",
       "    </tr>\n",
       "    <tr>\n",
       "      <td>24203</td>\n",
       "      <td>24203</td>\n",
       "      <td>pregnancy-motherhood</td>\n",
       "    </tr>\n",
       "    <tr>\n",
       "      <td>3567</td>\n",
       "      <td>3567</td>\n",
       "      <td>author-study</td>\n",
       "    </tr>\n",
       "    <tr>\n",
       "      <td>14359</td>\n",
       "      <td>14359</td>\n",
       "      <td>high-druid-of-shannara</td>\n",
       "    </tr>\n",
       "    <tr>\n",
       "      <td>29583</td>\n",
       "      <td>29583</td>\n",
       "      <td>texana</td>\n",
       "    </tr>\n",
       "  </tbody>\n",
       "</table>\n",
       "</div>"
      ],
      "text/plain": [
       "       tag_id                tag_name\n",
       "10960   10960      evans-richard-paul\n",
       "24203   24203    pregnancy-motherhood\n",
       "3567     3567            author-study\n",
       "14359   14359  high-druid-of-shannara\n",
       "29583   29583                  texana"
      ]
     },
     "execution_count": 70,
     "metadata": {},
     "output_type": "execute_result"
    }
   ],
   "source": [
    "df_tags.sample(5)"
   ]
  },
  {
   "cell_type": "code",
   "execution_count": 71,
   "metadata": {},
   "outputs": [
    {
     "data": {
      "text/plain": [
       "0        True\n",
       "1        True\n",
       "2        True\n",
       "3        True\n",
       "4        True\n",
       "         ... \n",
       "34247    True\n",
       "34248    True\n",
       "34249    True\n",
       "34250    True\n",
       "34251    True\n",
       "Name: tag_name, Length: 34252, dtype: bool"
      ]
     },
     "execution_count": 71,
     "metadata": {},
     "output_type": "execute_result"
    }
   ],
   "source": [
    "# T0 check that all \n",
    "\n",
    "mask = pd.to_numeric(df_tags['tag_name'], errors='coerce').isna()\n",
    "mask"
   ]
  },
  {
   "cell_type": "code",
   "execution_count": 72,
   "metadata": {},
   "outputs": [
    {
     "data": {
      "text/plain": [
       "34134"
      ]
     },
     "execution_count": 72,
     "metadata": {},
     "output_type": "execute_result"
    }
   ],
   "source": [
    "mask.sum() # Out of 34252 entries , there are 34134 entries with string format, others are some random number.\n",
    "           # These numbers can not be a tag. so we will discard these values or replace with a dummy string."
   ]
  },
  {
   "cell_type": "markdown",
   "metadata": {},
   "source": [
    "## Analysis of df_tags DataFrame(2 columns) :\n",
    "    1) This dataframe provides the tag id and title of the books\n",
    "    2) There are total 34252 tags\n",
    "    3) There are 34252 actual tag titles with string format, remaining titles are in numeric format. \n",
    "    4) These remaining titles can be replace with a common tag title but it will affect the results,\n",
    "       so we can drop them.\n"
   ]
  },
  {
   "cell_type": "markdown",
   "metadata": {},
   "source": [
    "**Lets load the 'book_tags.csv' file and explore it**"
   ]
  },
  {
   "cell_type": "code",
   "execution_count": 73,
   "metadata": {},
   "outputs": [],
   "source": [
    "df_book_tags = pd.read_csv('book_tags.csv')"
   ]
  },
  {
   "cell_type": "code",
   "execution_count": 74,
   "metadata": {},
   "outputs": [
    {
     "data": {
      "text/html": [
       "<div>\n",
       "<style scoped>\n",
       "    .dataframe tbody tr th:only-of-type {\n",
       "        vertical-align: middle;\n",
       "    }\n",
       "\n",
       "    .dataframe tbody tr th {\n",
       "        vertical-align: top;\n",
       "    }\n",
       "\n",
       "    .dataframe thead th {\n",
       "        text-align: right;\n",
       "    }\n",
       "</style>\n",
       "<table border=\"1\" class=\"dataframe\">\n",
       "  <thead>\n",
       "    <tr style=\"text-align: right;\">\n",
       "      <th></th>\n",
       "      <th>goodreads_book_id</th>\n",
       "      <th>tag_id</th>\n",
       "      <th>count</th>\n",
       "    </tr>\n",
       "  </thead>\n",
       "  <tbody>\n",
       "    <tr>\n",
       "      <td>92792</td>\n",
       "      <td>11298</td>\n",
       "      <td>25146</td>\n",
       "      <td>9</td>\n",
       "    </tr>\n",
       "    <tr>\n",
       "      <td>166496</td>\n",
       "      <td>24128</td>\n",
       "      <td>31103</td>\n",
       "      <td>20</td>\n",
       "    </tr>\n",
       "    <tr>\n",
       "      <td>651869</td>\n",
       "      <td>5604848</td>\n",
       "      <td>1120</td>\n",
       "      <td>26</td>\n",
       "    </tr>\n",
       "    <tr>\n",
       "      <td>829738</td>\n",
       "      <td>13448656</td>\n",
       "      <td>14894</td>\n",
       "      <td>44</td>\n",
       "    </tr>\n",
       "    <tr>\n",
       "      <td>156826</td>\n",
       "      <td>22076</td>\n",
       "      <td>17213</td>\n",
       "      <td>25</td>\n",
       "    </tr>\n",
       "  </tbody>\n",
       "</table>\n",
       "</div>"
      ],
      "text/plain": [
       "        goodreads_book_id  tag_id  count\n",
       "92792               11298   25146      9\n",
       "166496              24128   31103     20\n",
       "651869            5604848    1120     26\n",
       "829738           13448656   14894     44\n",
       "156826              22076   17213     25"
      ]
     },
     "execution_count": 74,
     "metadata": {},
     "output_type": "execute_result"
    }
   ],
   "source": [
    "df_book_tags.sample(5)"
   ]
  },
  {
   "cell_type": "code",
   "execution_count": 75,
   "metadata": {},
   "outputs": [
    {
     "name": "stdout",
     "output_type": "stream",
     "text": [
      "<class 'pandas.core.frame.DataFrame'>\n",
      "RangeIndex: 999912 entries, 0 to 999911\n",
      "Data columns (total 3 columns):\n",
      "goodreads_book_id    999912 non-null int64\n",
      "tag_id               999912 non-null int64\n",
      "count                999912 non-null int64\n",
      "dtypes: int64(3)\n",
      "memory usage: 22.9 MB\n"
     ]
    }
   ],
   "source": [
    "df_book_tags.info()"
   ]
  },
  {
   "cell_type": "code",
   "execution_count": 76,
   "metadata": {
    "scrolled": false
   },
   "outputs": [
    {
     "data": {
      "text/plain": [
       "goodreads_book_id\n",
       "22931009     56\n",
       "18607805     62\n",
       "280958       94\n",
       "1           100\n",
       "6339304     100\n",
       "           ... \n",
       "91479       100\n",
       "91571       100\n",
       "91582       100\n",
       "91474       100\n",
       "33288638    100\n",
       "Name: tag_id, Length: 10000, dtype: int64"
      ]
     },
     "execution_count": 76,
     "metadata": {},
     "output_type": "execute_result"
    }
   ],
   "source": [
    "df_book_tags.groupby('goodreads_book_id')['tag_id'].count().sort_values()\n",
    "\n",
    "# Result shows that all books has 100 tags except three books. "
   ]
  },
  {
   "cell_type": "markdown",
   "metadata": {},
   "source": [
    "We can not simply discard 'count' column. Higher number in this column shows higher popularity , which can be used in modeling for recommendation system."
   ]
  },
  {
   "cell_type": "markdown",
   "metadata": {},
   "source": [
    "Now we will check most frequently used tags"
   ]
  },
  {
   "cell_type": "code",
   "execution_count": 77,
   "metadata": {},
   "outputs": [],
   "source": [
    "most_freq_tags = df_book_tags.groupby('tag_id')['count'].count().sort_values(ascending=False)"
   ]
  },
  {
   "cell_type": "code",
   "execution_count": null,
   "metadata": {},
   "outputs": [
    {
     "data": {
      "text/plain": [
       "[<matplotlib.lines.Line2D at 0x11c1008f788>]"
      ]
     },
     "execution_count": 78,
     "metadata": {},
     "output_type": "execute_result"
    }
   ],
   "source": [
    "plt.plot(list(most_freq_tags)) # We need to convert this into log sacle for better clearity"
   ]
  },
  {
   "cell_type": "code",
   "execution_count": null,
   "metadata": {},
   "outputs": [],
   "source": [
    "plt.plot(list(most_freq_tags),color = 'g')\n",
    "plt.yscale('log')\n",
    "plt.xlabel('Tag_id')\n",
    "plt.ylabel('count of tags')\n",
    "plt.title('Frequency of tag ids')\n",
    "plt.grid(True)\n",
    "plt.show()\n"
   ]
  },
  {
   "cell_type": "code",
   "execution_count": null,
   "metadata": {},
   "outputs": [],
   "source": [
    "# Total count of each tag used \n",
    "# We are generating top 5 most frequently used tags \n",
    "\n",
    "Sum_most_freq_tags = np.cumsum(most_freq_tags).sort_values(ascending = False)\n"
   ]
  },
  {
   "cell_type": "code",
   "execution_count": null,
   "metadata": {},
   "outputs": [],
   "source": [
    "Sum_most_freq_tags.head()"
   ]
  },
  {
   "cell_type": "code",
   "execution_count": null,
   "metadata": {},
   "outputs": [],
   "source": [
    "plt.plot(list(Sum_most_freq_tags),color = 'g')\n",
    "plt.yscale('log')\n",
    "plt.xlabel('Tag_id')\n",
    "plt.ylabel('count of tags')\n",
    "plt.title('Frequency of tag ids')\n",
    "plt.grid(True)\n",
    "plt.show()\n"
   ]
  },
  {
   "cell_type": "code",
   "execution_count": null,
   "metadata": {},
   "outputs": [],
   "source": [
    "# Even after taking log-scale this graph is skewed and we are not getting much fruitful information."
   ]
  },
  {
   "cell_type": "code",
   "execution_count": null,
   "metadata": {},
   "outputs": [],
   "source": [
    "# Lets focus on chunks of tags id . lets say first 200 tag ids\n",
    "\n",
    "sum_list = Sum_most_freq_tags[0:150]\n",
    "sum_list"
   ]
  },
  {
   "cell_type": "code",
   "execution_count": null,
   "metadata": {},
   "outputs": [],
   "source": [
    "plt.plot(list(sum_list),color = 'r')\n",
    "plt.yscale('log')\n",
    "plt.xlabel('Tag_id')\n",
    "plt.ylabel('count of tags')\n",
    "plt.title('Frequency of tag ids')\n",
    "plt.grid(True)\n",
    "plt.show()\n"
   ]
  },
  {
   "cell_type": "code",
   "execution_count": null,
   "metadata": {},
   "outputs": [],
   "source": [
    "popular_tags=df_tags[df_tags['tag_id'].isin(list(most_freq_tags.index[:200]))]"
   ]
  },
  {
   "cell_type": "code",
   "execution_count": null,
   "metadata": {},
   "outputs": [],
   "source": [
    "popular_tags.head(20)"
   ]
  },
  {
   "cell_type": "markdown",
   "metadata": {},
   "source": [
    "Tags are going to play a crucial role in recommendation system . In the above query we have gathered top 200 most frequently used tags"
   ]
  },
  {
   "cell_type": "markdown",
   "metadata": {},
   "source": [
    "## Analysis of df_book_tags DataFrame(3 columns) :\n",
    "        \n",
    "        1) Dataframe contains three columns : goodreads_book_id, tag_id, count\n",
    "        2) Every book is mapped with multiple tags\n",
    "        3) Top 200, most frequently used tags_id and Title fetched from the data \n",
    "        4) Its been observed that many tags are same but written in different ways. We can merge these tags together\n",
    "        5) All books are tagged with 100 different tags except 3 books. \n"
   ]
  },
  {
   "cell_type": "code",
   "execution_count": null,
   "metadata": {},
   "outputs": [],
   "source": []
  },
  {
   "cell_type": "markdown",
   "metadata": {},
   "source": [
    "Cleaning Process: "
   ]
  },
  {
   "cell_type": "markdown",
   "metadata": {},
   "source": [
    "**Clean:**\n",
    "\n",
    "**Define**\n",
    "\n",
    "**df_books:**\n",
    "\n",
    "'best_book_id': Drop this column.\n",
    "'work_id': Drop this column.\n",
    "'books_count': Drop this column.\n",
    "'isbn': Drop this column.\n",
    "'isbn13': Drop this column.\n",
    "'authors': *Keep first element (author), and drop the rest.\"\n",
    "'original_title': Drop this column.\n",
    "'language_code': *Change \"en-US\", \"en-GB\", \"en-CA\" to \"eng\".\n",
    "'average_rating': Drop this column.\n",
    "'ratings_count': Drop this column.\n",
    "'work_ratings_count': Drop this column.\n",
    "'work_text_reviews_count': Drop this column.\n",
    "'ratings_1' to 'ratings_5: Drop these columns.\n",
    "'small_image_url': Drop this column.\n",
    "\n",
    "**df_book_tags:**\n",
    "\n",
    "'count': Drop this column.\n",
    "\n",
    "\n",
    "**df_book_tags and df_tags:**\n",
    "Old tag_id to be changed to new_tag_id.\n",
    "{1540 : 1 , 1542 : 1 , 1642 : 2 , 1659 : 2 , 1691 : 3 , 2104 : 4 , 2277 : 5 , 31656 : 5 , 4605 : 6 , 4949 : 7 , 4959 : 7 , 4985 : 7 , 5051 : 7 , 5751 : 8 , 6828 : 9 , 6857 : 9 , 6888 : 9 , 6895 : 9 , 6953 : 9 , 6960 : 9 , 7404 : 10 , 7457 : 10 , 7725 : 11 , 12680 : 11 , 15048 : 11 , 15067 : 11 , 7852 : 12 , 8055 : 13 , 8067 : 13 , 8076 : 13 , 20288 : 13 , 8517 : 14 , 8527 : 14 , 8533 : 14 , 9336 : 14 , 9886 : 15 , 10641 : 16 , 10644 : 16 , 11221 : 17 , 11305 : 18 , 31617 : 18 , 12600 : 19 , 14467 : 20 , 14487 : 20 , 14552 : 21 , 14821 : 22 , 16799 : 23 , 17124 : 23 , 17129 : 23 , 18318 : 24 , 18326 : 24 , 18367 : 24 , 18640 : 25 , 18886 : 26 , 20926 : 27 , 20939 : 27 , 20957 : 27 , 20989 : 27 , 20994 : 27 , 21689 : 28 , 21773 : 28 , 22973 : 29 , 29011 : 29 , 23471 : 30 , 25630 : 31 , 26138 : 32 , 14370 : 33 , 26735 : 33 , 11370 : 34 , 11376 : 34 , 26771 : 34 , 26785 : 34 , 26816 : 34 , 26837 : 34 , 26842 : 34 , 26894 : 34 , 26897 : 34 , 29076 : 35 , 29083 : 35 , 30358 : 35 , 30386 : 35 , 29452 : 36 , 32996 : 36 , 33009 : 36 , 33012 : 36 , 33114 : 36 , 33124 : 36 , 33165 : 36 , 32130 : 37 , 32686 : 38}\n",
    "\n",
    "\n",
    "If tag is other than those listed, then tag_id=99.\n",
    "\n",
    "new_tag_id tag name to be changed to new_tag_name:\n",
    "{1 : action , 2 : adult , 3 : adventure , 4 : all-time-favorites , 5 : american , 6 : biography , 7 : bookclub , 8 : british , 9 : children , 10 : classics , 11 : comedy , 12 : coming-of-age , 13 : contemporary , 14 : crime , 15 : drama , 16 : english , 17 : family , 18 : fantasy , 19 : friendship , 20 : historical , 21 : history , 22 : horror , 23 : kids , 24 : literature , 25 : love , 26 : magic , 27 : mystery , 28 : non-fiction , 29 : paranormal , 30 : philosophy , 31 : relationships , 32 : romance , 33 : school , 34 : sci-fi , 35 : suspense , 36 : teen , 37 : war , 38 : women , 99 : z_other }\n",
    "\n",
    "**df_book_tags and df_tags:**\n",
    "\n",
    "Merge these 2 dataframes.\n",
    "\n",
    "Drop duplicate rows where the same tag appears more than once per book.\n",
    "\n",
    "Drop rows with tag_id = 99 (other)\n",
    "\n"
   ]
  },
  {
   "cell_type": "code",
   "execution_count": null,
   "metadata": {},
   "outputs": [],
   "source": []
  },
  {
   "cell_type": "code",
   "execution_count": null,
   "metadata": {},
   "outputs": [],
   "source": [
    "df_books.head(1)\n"
   ]
  },
  {
   "cell_type": "code",
   "execution_count": null,
   "metadata": {},
   "outputs": [],
   "source": [
    "df_books.columns\n"
   ]
  },
  {
   "cell_type": "code",
   "execution_count": null,
   "metadata": {},
   "outputs": [],
   "source": [
    "# df_books cleaning:\n",
    "\n",
    "# Drop columns that will not be useful for book recommendations:\n",
    "df_books=df_books.drop(labels=['best_book_id','work_id','books_count','isbn','isbn13','original_title',\n",
    "                               'average_rating','ratings_count','work_ratings_count','work_text_reviews_count',\n",
    "                               'ratings_1','ratings_2','ratings_3','ratings_4','ratings_5','small_image_url'],axis=1)"
   ]
  },
  {
   "cell_type": "code",
   "execution_count": null,
   "metadata": {},
   "outputs": [],
   "source": [
    "# df_books cleaning:\n",
    "\n",
    "# Standardise language code for english:\n",
    "df_books['language_code'].replace({'en-US':'eng','en-GB':'eng','en-CA':'eng'}, inplace=True)"
   ]
  },
  {
   "cell_type": "code",
   "execution_count": null,
   "metadata": {},
   "outputs": [],
   "source": [
    "# df_books cleaning:\n",
    "\n",
    "# Drop secondary names under authors.\n",
    "df_books['authors']=df_books['authors'].str.split(',',expand=True)[0]"
   ]
  },
  {
   "cell_type": "code",
   "execution_count": null,
   "metadata": {},
   "outputs": [],
   "source": [
    "# df_book_tags cleaning:\n",
    "\n",
    "# Drop columns that will not be useful for book recommendations:\n",
    "df_book_tags=df_book_tags.drop(labels=['count'],axis=1)"
   ]
  },
  {
   "cell_type": "code",
   "execution_count": null,
   "metadata": {},
   "outputs": [],
   "source": [
    "# df_book_tags and df_tags:\n",
    "\n",
    "new_tag_id_list=[1,2,3,4,5,6,7,8,9,10,11,12,13,14,15,16,17,18,19,20,\\\n",
    "                 21,22,23,24,25,26,27,28,29,30,31,32,33,34,35,36,37,38]\n",
    "\n",
    "new_tag_name_dic={1:'action', 2:'adult', 3:'adventure', 4:'all-time-favorites', 5:'american', 6:'biography', \n",
    "                  7:'bookclub', 8:'british', 9:'children', 10:'classics', 11:'comedy', 12:'coming-of-age', \n",
    "                  13:'contemporary', 14:'crime', 15:'drama', 16:'english', 17:'family', 18:'fantasy', \n",
    "                  19:'friendship', 20:'historical', 21:'history', 22:'horror', 23:'kids', 24:'literature', 25:'love', \n",
    "                  26:'magic', 27:'mystery', 28:'non-fiction', 29:'paranormal', 30:'philosophy', 31:'relationships', \n",
    "                  32:'romance', 33:'school', 34:'sci-fi', 35:'suspense', 36:'teen', 37:'war', 38:'women', 99:'z_other'}\n",
    "\n",
    "new_tag_id_dic={1540:1, 1542:1, 1642:2, 1659:2, 1691:3, 2104:4, 2277:5, 31656:5, 4605:6, 4949:7, 4959:7, 4985:7, \n",
    "                5051:7, 5751:8, 6828:9, 6857:9, 6888:9, 6895:9, 6953:9, 6960:9, 7404:10, 7457:10, 7725:11, 12680:11, \n",
    "                15048:11, 15067:11, 7852:12, 8055:13, 8067:13, 8076:13, 20288:13, 8517:14, 8527:14, 8533:14, 9336:14, \n",
    "                9886:15, 10641:16, 10644:16, 11221:17, 11305:18, 31617:18, 12600:19, 14467:20, 14487:20, 14552:21, \n",
    "                14821:22, 16799:23, 17124:23, 17129:23, 18318:24, 18326:24, 18367:24, 18640:25, 18886:26, 20926:27, \n",
    "                20939:27, 20957:27, 20989:27,  20994:27, 21689:28, 21773:28, 22973:29, 29011:29, 23471:30, 25630:31, \n",
    "                26138:32, 14370:33, 26735:33, 11370:34, 11376:34, 26771:34, 26785:34, 26816:34, 26837:34, 26842:34, \n",
    "                26894:34, 26897:34, 29076:35, 29083:35, 30358:35, 30386:35, 29452:36, 32996:36, 33009:36, 33012:36, \n",
    "                33114:36, 33124:36, 33165:36, 32130:37, 32686:38}\n",
    "\n",
    "df_book_tags['new_tag_id']=df_book_tags['tag_id'].replace(new_tag_id_dic)\n",
    "\n",
    "#If tag is other than those listed, then tag_id=99. \n",
    "df_book_tags.loc[~df_book_tags['new_tag_id'].isin(new_tag_id_list), 'new_tag_id']=99\n",
    "\n",
    "#create a column for tag ids:\n",
    "df_tags['new_tag_id']=df_tags['tag_id'].replace(new_tag_id_dic)  \n",
    "\n",
    "#create a column for tag ids. This will be replaced by dictionary values with the tag name.\n",
    "df_book_tags['new_tag_name']=df_book_tags['new_tag_id']\n",
    "df_book_tags=df_book_tags.replace({'new_tag_name': new_tag_name_dic})\n",
    "\n",
    "#drop tags that are duplicated across a same book_id\n",
    "df_book_tags = df_book_tags.sort_values('goodreads_book_id', ascending=True) #sort according to book_id\n",
    "\n",
    "#drop the duplicate tag_ids when duplicated within a book.\n",
    "df_book_tags = df_book_tags.drop_duplicates(subset=['new_tag_id','goodreads_book_id'], keep='first')\n",
    "\n",
    "#drop the rows containing 99 (eg. other) as all books have been tagged at least once as other. This tag does not\n",
    "#provide additional information\n",
    "df_book_tags = df_book_tags[df_book_tags['new_tag_id'] != 99] \n",
    "\n",
    "#drop old tag_id column.\n",
    "df_book_tags = df_book_tags.drop('tag_id', 1)\n",
    "\n",
    "#rename the columns to be consistent with the other dataframes.\n",
    "df_book_tags = df_book_tags.rename(columns={'new_tag_id':'tag_id','new_tag_name': 'tag_name','goodreads_book_id':'book_id'})\n",
    "\n",
    "tag_count=df_book_tags.groupby('tag_name')['book_id'].count().sort_values(ascending=False)"
   ]
  },
  {
   "cell_type": "code",
   "execution_count": null,
   "metadata": {},
   "outputs": [],
   "source": [
    "df_book_tags.head()\n"
   ]
  },
  {
   "cell_type": "markdown",
   "metadata": {},
   "source": [
    "### Data after Cleaning"
   ]
  },
  {
   "cell_type": "code",
   "execution_count": null,
   "metadata": {},
   "outputs": [],
   "source": [
    "df_books.head()\n"
   ]
  },
  {
   "cell_type": "code",
   "execution_count": null,
   "metadata": {},
   "outputs": [],
   "source": [
    "df_books.shape\n"
   ]
  },
  {
   "cell_type": "code",
   "execution_count": null,
   "metadata": {},
   "outputs": [],
   "source": [
    "df_ratings.head()\n"
   ]
  },
  {
   "cell_type": "code",
   "execution_count": null,
   "metadata": {},
   "outputs": [],
   "source": [
    "df_ratings.shape\n"
   ]
  },
  {
   "cell_type": "code",
   "execution_count": null,
   "metadata": {},
   "outputs": [],
   "source": [
    "df_book_tags.head()\n"
   ]
  },
  {
   "cell_type": "code",
   "execution_count": null,
   "metadata": {},
   "outputs": [],
   "source": [
    "df_book_tags.shape\n"
   ]
  },
  {
   "cell_type": "code",
   "execution_count": null,
   "metadata": {},
   "outputs": [],
   "source": [
    "df_book_tags[df_book_tags['tag_name'] == 'teen'].shape"
   ]
  },
  {
   "cell_type": "code",
   "execution_count": null,
   "metadata": {},
   "outputs": [],
   "source": [
    "df_book_tags.tag_name.value_counts()"
   ]
  },
  {
   "cell_type": "code",
   "execution_count": null,
   "metadata": {},
   "outputs": [],
   "source": [
    "plt.figure(figsize=(20,8))\n",
    "sns.barplot(x=list(tag_count.index), y=tag_count,order=list(tag_count.index),color=\"c\")\n",
    "plt.xticks(rotation=90)\n",
    "\n",
    "plt.savefig('genres.png');"
   ]
  },
  {
   "cell_type": "code",
   "execution_count": null,
   "metadata": {},
   "outputs": [],
   "source": [
    "tag_count[1:]\n"
   ]
  },
  {
   "cell_type": "code",
   "execution_count": null,
   "metadata": {},
   "outputs": [],
   "source": [
    "plt.hist(tag_count)\n"
   ]
  },
  {
   "cell_type": "code",
   "execution_count": null,
   "metadata": {},
   "outputs": [],
   "source": [
    "df_tags.head()\n"
   ]
  },
  {
   "cell_type": "code",
   "execution_count": null,
   "metadata": {},
   "outputs": [],
   "source": [
    "df_ratings.shape\n"
   ]
  },
  {
   "cell_type": "code",
   "execution_count": null,
   "metadata": {},
   "outputs": [],
   "source": [
    "df_ratings.head()\n"
   ]
  },
  {
   "cell_type": "code",
   "execution_count": null,
   "metadata": {},
   "outputs": [],
   "source": [
    "#Save Clean datasets into csv files\n",
    "df_books.to_csv(r'df_books.csv',index=False)\n",
    "df_ratings.to_csv(r'df_ratings.csv',index=False)\n",
    "df_book_tags.to_csv(r'df_tags.csv',index=False)"
   ]
  },
  {
   "cell_type": "code",
   "execution_count": null,
   "metadata": {
    "scrolled": true
   },
   "outputs": [],
   "source": [
    "df_books.head(3)\n",
    "df_books.shape"
   ]
  },
  {
   "cell_type": "code",
   "execution_count": null,
   "metadata": {
    "scrolled": false
   },
   "outputs": [],
   "source": [
    "df_ratings.head(3) "
   ]
  },
  {
   "cell_type": "code",
   "execution_count": null,
   "metadata": {
    "scrolled": true
   },
   "outputs": [],
   "source": [
    "df_book_tags.head(3)"
   ]
  },
  {
   "cell_type": "code",
   "execution_count": null,
   "metadata": {},
   "outputs": [],
   "source": [
    "df_ratings[['user_id','book_id']].duplicated().value_counts()"
   ]
  },
  {
   "cell_type": "markdown",
   "metadata": {},
   "source": [
    "Above query shows that there is no user who has given rating to same book more than once.\n",
    "That means df_ratings dataframe has all unique ratings. "
   ]
  },
  {
   "cell_type": "code",
   "execution_count": null,
   "metadata": {},
   "outputs": [],
   "source": [
    "df_ratings.groupby('user_id')['rating'].count().sort_values()"
   ]
  },
  {
   "cell_type": "code",
   "execution_count": null,
   "metadata": {},
   "outputs": [],
   "source": [
    "df_ratings[df_ratings.user_id==34590]"
   ]
  },
  {
   "cell_type": "markdown",
   "metadata": {},
   "source": [
    "Now, after getting the final cleaned datasets, we can perform recommendation strategies.\n",
    "As per the available data, I have decided to perform three different methods to generate recommendation for a user. \n",
    "\n",
    "Methods are as follows:\n",
    "\n",
    "    1) Top-N recommendations\n",
    "    2) Content based recommendations\n",
    "    3) Item based collabarative filtering "
   ]
  },
  {
   "cell_type": "markdown",
   "metadata": {},
   "source": [
    "For Top-N recommendation, I would simply find out the top 10 books on the basis of user's rating. Obviously it \n",
    "wouldnt be that efficient because this type recommendation system will return the same list of books to all users irrespective of their interest and previous reading. "
   ]
  },
  {
   "cell_type": "markdown",
   "metadata": {},
   "source": [
    "As we have seen, there are many users who have rated many books. \n",
    "I am making a thrushhold of 100. That means I am going to consider only those users who have rated \n",
    "100 or more than 100 books. It makes more sense if we consider those users who have rated many books. User with more \n",
    "readings can rate a book book more appropriately."
   ]
  },
  {
   "cell_type": "markdown",
   "metadata": {},
   "source": [
    "### 1) Top-N recommendations"
   ]
  },
  {
   "cell_type": "code",
   "execution_count": null,
   "metadata": {},
   "outputs": [],
   "source": [
    "top = df_ratings.groupby(['book_id'],as_index = False).agg({'rating':'mean'})\n",
    "top.sort_values('rating',ascending = False)"
   ]
  },
  {
   "cell_type": "code",
   "execution_count": null,
   "metadata": {},
   "outputs": [],
   "source": [
    "# We need to merge \"top\" dataframe with \"df_books\" dataframe so that we can get complete list of books with\n",
    "# titles and respective authors."
   ]
  },
  {
   "cell_type": "code",
   "execution_count": null,
   "metadata": {},
   "outputs": [],
   "source": [
    "top.shape"
   ]
  },
  {
   "cell_type": "code",
   "execution_count": null,
   "metadata": {},
   "outputs": [],
   "source": [
    "top_list = pd.merge(df_books,top,on = 'book_id')"
   ]
  },
  {
   "cell_type": "code",
   "execution_count": null,
   "metadata": {},
   "outputs": [],
   "source": [
    "top_list"
   ]
  },
  {
   "cell_type": "code",
   "execution_count": null,
   "metadata": {},
   "outputs": [],
   "source": [
    "top_list = top_list[['book_id','authors','title','rating']]\n",
    "top_list.head()"
   ]
  },
  {
   "cell_type": "code",
   "execution_count": null,
   "metadata": {},
   "outputs": [],
   "source": [
    "top_list.sort_values('rating',ascending = False).head(10)"
   ]
  },
  {
   "cell_type": "markdown",
   "metadata": {},
   "source": [
    "Clearly, above result is not efficient. it is just a list of top 10 books which were rated well. "
   ]
  },
  {
   "cell_type": "markdown",
   "metadata": {},
   "source": [
    "### 2) Content based recommendations"
   ]
  },
  {
   "cell_type": "markdown",
   "metadata": {},
   "source": [
    "For content based recommendations, we can utilize the knowledge of our tag based dataset. After looking at tag data sets,\n",
    "it seems that it has various type of values like numbers, blanks, random characters etc. To make this tag content more efficient, I am going to choose standard genres decided by good reads itself and will eleminate all other tags. "
   ]
  },
  {
   "cell_type": "code",
   "execution_count": null,
   "metadata": {},
   "outputs": [],
   "source": [
    "%whos DataFrame"
   ]
  },
  {
   "cell_type": "code",
   "execution_count": null,
   "metadata": {},
   "outputs": [],
   "source": [
    "df_book_tags.head()"
   ]
  },
  {
   "cell_type": "code",
   "execution_count": null,
   "metadata": {},
   "outputs": [],
   "source": [
    "df_old_tags = pd.read_csv('tags.csv')\n",
    "df_old_book_tags = pd.read_csv('book_tags.csv')"
   ]
  },
  {
   "cell_type": "code",
   "execution_count": null,
   "metadata": {
    "scrolled": true
   },
   "outputs": [],
   "source": [
    "df_old_tags.head(3)\n",
    "df_old_tags.shape"
   ]
  },
  {
   "cell_type": "code",
   "execution_count": null,
   "metadata": {},
   "outputs": [],
   "source": [
    "df_old_book_tags.head(3)\n",
    "df_old_book_tags.shape"
   ]
  },
  {
   "cell_type": "code",
   "execution_count": null,
   "metadata": {},
   "outputs": [],
   "source": [
    "df_old_merge_book_tags = pd.merge(df_old_book_tags,df_old_tags,on = 'tag_id')\n"
   ]
  },
  {
   "cell_type": "code",
   "execution_count": null,
   "metadata": {
    "scrolled": true
   },
   "outputs": [],
   "source": [
    "df_old_merge_book_tags.sort_values('goodreads_book_id').head()\n",
    "#df_old_merge_book_tags.shape"
   ]
  },
  {
   "cell_type": "markdown",
   "metadata": {},
   "source": [
    "Let's see, which tag has been used most number of times."
   ]
  },
  {
   "cell_type": "code",
   "execution_count": null,
   "metadata": {},
   "outputs": [],
   "source": [
    "most_used_tags = df_old_merge_book_tags.groupby(['tag_name'], as_index = False).agg({'goodreads_book_id':'count'})"
   ]
  },
  {
   "cell_type": "code",
   "execution_count": null,
   "metadata": {},
   "outputs": [],
   "source": [
    "most_used_tags= most_used_tags.rename(columns={'goodreads_book_id' : 'frequency'})\n",
    "most_used_tags"
   ]
  },
  {
   "cell_type": "code",
   "execution_count": null,
   "metadata": {},
   "outputs": [],
   "source": [
    "most_used_tags = most_used_tags.sort_values('frequency',ascending = False)    \n",
    "most_used_tags.head(7)"
   ]
  },
  {
   "cell_type": "code",
   "execution_count": null,
   "metadata": {},
   "outputs": [],
   "source": [
    "df_genres = pd.read_csv('genres.csv')\n",
    "df_genres.shape"
   ]
  },
  {
   "cell_type": "code",
   "execution_count": null,
   "metadata": {},
   "outputs": [],
   "source": [
    "df_genres.head(7)"
   ]
  },
  {
   "cell_type": "markdown",
   "metadata": {},
   "source": [
    "Now, I want to match these standard geners with the tag_name column in\n",
    "most_used_tags dataframe.After matching, extra tags which are not matched with standard geners, would be removed from the data sets."
   ]
  },
  {
   "cell_type": "code",
   "execution_count": null,
   "metadata": {},
   "outputs": [],
   "source": [
    "# for comaprision, let's first make a list of all standard generes.\n",
    "\n",
    "std_gnr_lst = df_genres.tag_name.tolist()\n",
    "len(std_gnr_lst)"
   ]
  },
  {
   "cell_type": "markdown",
   "metadata": {},
   "source": [
    "Above query shows thast there are total 1235 unique geners avaialble on Good reads website. And, we know that most_used_tags has total 34252 entries. Let's remove the extras. "
   ]
  },
  {
   "cell_type": "code",
   "execution_count": null,
   "metadata": {},
   "outputs": [],
   "source": [
    "dff_tags = pd.read_csv('tags.csv')\n",
    "orig_gnr = dff_tags.loc[dff_tags['tag_name'].isin(std_gnr_lst)]"
   ]
  },
  {
   "cell_type": "code",
   "execution_count": null,
   "metadata": {},
   "outputs": [],
   "source": [
    "orig_gnr"
   ]
  },
  {
   "cell_type": "code",
   "execution_count": null,
   "metadata": {},
   "outputs": [],
   "source": [
    "dff_book_tags = pd.read_csv('book_tags.csv')\n",
    "\n",
    "\n",
    "common_tags = pd.merge(dff_book_tags, orig_gnr, on = ['tag_id'])"
   ]
  },
  {
   "cell_type": "code",
   "execution_count": null,
   "metadata": {},
   "outputs": [],
   "source": [
    "common_tags"
   ]
  },
  {
   "cell_type": "code",
   "execution_count": null,
   "metadata": {},
   "outputs": [],
   "source": [
    "combined_tags = common_tags.groupby('goodreads_book_id')['tag_name'].apply(lambda x: \"%s\" % ' '.join(x)).reset_index()"
   ]
  },
  {
   "cell_type": "code",
   "execution_count": null,
   "metadata": {},
   "outputs": [],
   "source": [
    "combined_tags.head(7)"
   ]
  },
  {
   "cell_type": "markdown",
   "metadata": {},
   "source": [
    "I am merging this dataframe with df_books dataframe as this merging process will give us a final version, where book-title and author information will be visible at one place."
   ]
  },
  {
   "cell_type": "code",
   "execution_count": null,
   "metadata": {},
   "outputs": [],
   "source": [
    "combined_tags = pd.merge(combined_tags, df_books[['book_id', 'authors', 'title']], left_on = ['goodreads_book_id'], right_on = ['book_id']).drop('book_id', axis = 1)\n"
   ]
  },
  {
   "cell_type": "code",
   "execution_count": null,
   "metadata": {},
   "outputs": [],
   "source": [
    "combined_tags.head(3)\n"
   ]
  },
  {
   "cell_type": "code",
   "execution_count": null,
   "metadata": {},
   "outputs": [],
   "source": [
    "combined_tags.shape\n"
   ]
  },
  {
   "cell_type": "markdown",
   "metadata": {},
   "source": [
    "One more reason behind merging these two dataframes is we can use author name also to generate better similarity score. 'Author' factor must be included because it makes sense that if a reader liked a book written by an author is most likely to read book written by same author. "
   ]
  },
  {
   "cell_type": "code",
   "execution_count": null,
   "metadata": {},
   "outputs": [],
   "source": [
    "combined_tags['authors'] = combined_tags['authors'].astype('str').apply(lambda x: str.lower(x.replace(\" \", \"\")))"
   ]
  },
  {
   "cell_type": "code",
   "execution_count": null,
   "metadata": {
    "scrolled": true
   },
   "outputs": [],
   "source": [
    "combined_tags.head(7)"
   ]
  },
  {
   "cell_type": "code",
   "execution_count": null,
   "metadata": {},
   "outputs": [],
   "source": [
    "# Now I will append the author name in the 'tag_name'\n",
    "\n",
    "combined_tags['complete_string'] = combined_tags['tag_name'] + \" \" + combined_tags['authors']\n",
    "\n",
    "combined_tags.head(5)"
   ]
  },
  {
   "cell_type": "code",
   "execution_count": null,
   "metadata": {},
   "outputs": [],
   "source": []
  },
  {
   "cell_type": "code",
   "execution_count": null,
   "metadata": {},
   "outputs": [],
   "source": []
  }
 ],
 "metadata": {
  "kernelspec": {
   "display_name": "Python 3",
   "language": "python",
   "name": "python3"
  },
  "language_info": {
   "codemirror_mode": {
    "name": "ipython",
    "version": 3
   },
   "file_extension": ".py",
   "mimetype": "text/x-python",
   "name": "python",
   "nbconvert_exporter": "python",
   "pygments_lexer": "ipython3",
   "version": "3.7.4"
  }
 },
 "nbformat": 4,
 "nbformat_minor": 2
}
